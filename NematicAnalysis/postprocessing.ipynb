{
 "cells": [
  {
   "cell_type": "code",
   "execution_count": 1,
   "metadata": {},
   "outputs": [],
   "source": [
    "import numpy as np\n",
    "import matplotlib.pyplot as plt\n",
    "from matplotlib import ticker\n",
    "\n",
    "from utils import *\n",
    "from plot_utils import *\n",
    "from AnalyseDefects_dev import AnalyseDefects"
   ]
  },
  {
   "cell_type": "code",
   "execution_count": 9,
   "metadata": {},
   "outputs": [],
   "source": [
    "LL = 2048\n",
    "output_path = f'data\\\\na{LL}'\n",
    "mode = 'all' # 'all' or 'short'\n",
    "\n",
    "defect_list = gen_analysis_dict(LL, mode)\n",
    "\n",
    "ad = AnalyseDefects(defect_list, output_path=output_path)\n",
    "\n",
    "extract = False\n",
    "analyze = False\n",
    "merge = False\n",
    "\n",
    "if extract:\n",
    "    ad.extract_results()\n",
    "if analyze:\n",
    "    ad.analyze_defects()\n",
    "if merge:\n",
    "    ad.merge_results()"
   ]
  },
  {
   "cell_type": "code",
   "execution_count": null,
   "metadata": {},
   "outputs": [],
   "source": [
    "for Ndataset in range(ad.Ndata):\n",
    "    ad.plot_defects_per_activity(Ndataset=Ndataset, save=True)\n",
    "ad.plot_defects_per_activity(use_merged=True, save=True)"
   ]
  },
  {
   "cell_type": "code",
   "execution_count": null,
   "metadata": {},
   "outputs": [],
   "source": [
    "for Ndataset in range(ad.Ndata):\n",
    "    ad.plot_hyperuniformity_sfac(Ndataset=Ndataset, weighted=False, save = True);"
   ]
  }
 ],
 "metadata": {
  "kernelspec": {
   "display_name": "sf",
   "language": "python",
   "name": "python3"
  },
  "language_info": {
   "codemirror_mode": {
    "name": "ipython",
    "version": 3
   },
   "file_extension": ".py",
   "mimetype": "text/x-python",
   "name": "python",
   "nbconvert_exporter": "python",
   "pygments_lexer": "ipython3",
   "version": "3.9.13"
  }
 },
 "nbformat": 4,
 "nbformat_minor": 2
}
