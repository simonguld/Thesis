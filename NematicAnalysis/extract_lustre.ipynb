{
 "cells": [
  {
   "cell_type": "code",
   "execution_count": 30,
   "id": "c850663b",
   "metadata": {},
   "outputs": [],
   "source": [
    "import os\n",
    "import shutil\n",
    "import glob\n",
    "\n",
    "import numpy as np\n",
    "import matplotlib.pyplot as plt\n",
    "from matplotlib import ticker\n",
    "\n",
    "from utils import *\n",
    "from plot_utils import *\n",
    "from AnalyseDefects_dev import AnalyseDefects\n",
    "\n",
    "import massPy as mp"
   ]
  },
  {
   "cell_type": "code",
   "execution_count": 35,
   "id": "4f8fb0c7",
   "metadata": {},
   "outputs": [],
   "source": [
    "def sort_files(files, key = lambda x: int(x.split('frame')[-1].split('.')[0])):\n",
    "    return sorted(files, key=key)\n"
   ]
  },
  {
   "cell_type": "code",
   "execution_count": 60,
   "id": "f51db1f5",
   "metadata": {},
   "outputs": [],
   "source": [
    "path = \"Z:/nematic_simulation/ns2048pd/output_test_zeta_0.018/output_test_zeta_0.018_counter_0\"\n",
    "outpath = 'data/nigar/ns2048zeta0.018'\n",
    "\n",
    "frames = os.listdir(path)\n",
    "frames.remove('parameters.json')\n",
    "frames_sorted =sort_files(frames)\n",
    "frames_sorted\n",
    "\n",
    "if not os.path.exists(outpath):\n",
    "    os.makedirs(outpath)\n",
    "# copy params file to outpath\n",
    "shutil.copyfile(os.path.join(path, 'parameters.json'), os.path.join(outpath, 'parameters.json'))\n",
    "\n",
    "for i, frame in enumerate(frames_sorted):\n",
    "    if i < 15:\n",
    "        file_path = os.path.join(path, frame)\n",
    "        npz_obj = np.load(file_path)\n",
    "        vx = npz_obj['vx']\n",
    "        vy = npz_obj['vy']\n",
    "\n",
    "        np.savez_compressed(os.path.join(outpath, frame), vx=vx, vy=vy)"
   ]
  },
  {
   "cell_type": "code",
   "execution_count": null,
   "id": "1cd40d92",
   "metadata": {},
   "outputs": [
    {
     "name": "stdout",
     "output_type": "stream",
     "text": [
      "(2048, 2048) (2048, 2048)\n"
     ]
    }
   ],
   "source": [
    "import os\n",
    "import glob\n",
    "import numpy as np\n",
    "\n",
    "def sort_files(files, key = lambda x: int(x.split('frame')[-1].split('.')[0])):\n",
    "    return sorted(files, key=key)\n",
    "\n",
    "# set system size\n",
    "L = 2048\n",
    "\n",
    "# set directory for frames\n",
    "frames_dir = outpath\n",
    "\n",
    "# sort files in directory\n",
    "files_sorted = sort_files(glob.glob(os.path.join(frames_dir, 'frame*')))\n",
    "\n",
    "# load velocity fields for first frame\n",
    "data = np.load(files_sorted[0], allow_pickle=True)\n",
    "vx = data['vx'].reshape(L, L)\n",
    "vy = data['vy'].reshape(L, L)\n",
    "print(vx.shape, vy.shape)"
   ]
  }
 ],
 "metadata": {
  "kernelspec": {
   "display_name": "sf",
   "language": "python",
   "name": "python3"
  },
  "language_info": {
   "codemirror_mode": {
    "name": "ipython",
    "version": 3
   },
   "file_extension": ".py",
   "mimetype": "text/x-python",
   "name": "python",
   "nbconvert_exporter": "python",
   "pygments_lexer": "ipython3",
   "version": "3.9.13"
  }
 },
 "nbformat": 4,
 "nbformat_minor": 5
}
