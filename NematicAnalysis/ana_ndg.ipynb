{
 "cells": [
  {
   "cell_type": "code",
   "execution_count": 1,
   "metadata": {},
   "outputs": [],
   "source": [
    "import os\n",
    "import warnings\n",
    "import pickle as pkl\n",
    "import pathlib\n",
    "\n",
    "import numpy as np\n",
    "import matplotlib.pyplot as plt\n",
    "from matplotlib import ticker\n",
    "\n",
    "from utils import *\n",
    "from plot_utils import *\n"
   ]
  },
  {
   "cell_type": "code",
   "execution_count": null,
   "metadata": {},
   "outputs": [],
   "source": [
    "def extract_results(self, save = True, normalize = True,):\n",
    "    \"\"\"\n",
    "    Analyse the defects for all the input folders\n",
    "    \"\"\"\n",
    "    for N in range(self.Ndata):\n",
    "\n",
    "        defect_arr = np.nan * np.zeros((self.Nframes[N], self.Nactivity[N], self.Nexp[N]))\n",
    "        av_counts = np.nan * np.zeros([self.Nframes[N], len(self.window_sizes[N]), self.Nactivity[N], self.Nexp[N]])\n",
    "        var_counts = np.nan * np.zeros_like(av_counts)\n",
    "\n",
    "        if os.path.isfile(os.path.join(self.output_paths[N], 'kbins.txt')):\n",
    "            ext_sfac = True\n",
    "            kbins = np.loadtxt(os.path.join(self.output_paths[N], 'kbins.txt'))\n",
    "            rad = np.load(os.path.join(self.output_paths[N], 'rad.npy'))\n",
    "            sfac = np.nan * np.zeros((self.Nframes[N], len(kbins), 2, self.Nactivity[N], min(10, self.Nexp[N])))\n",
    "            pcf = np.nan * np.zeros((self.Nframes[N], len(rad), self.Nactivity[N], min(self.Nexp[N], 10)))\n",
    "        else:\n",
    "            ext_sfac = False\n",
    "        \n",
    "        print('Analyse defects for input folder {}'.format(self.input_paths[N]))\n",
    "        for i, (act, act_dir) in enumerate(zip(self.act_list[N], self.act_dir_list[N])):\n",
    "            sfac_counter = 0\n",
    "            exp_list = []\n",
    "            exp_dir_list = []\n",
    "\n",
    "            for file in os.listdir(act_dir):\n",
    "                exp_count = file.split('_')[-1]\n",
    "                exp_list.append(int(exp_count))\n",
    "                exp_dir_list.append(os.path.join(act_dir, file))\n",
    "\n",
    "            # sort the activity list and the activity directory list\n",
    "            exp_list, exp_dir_list = zip(*sorted(zip(exp_list, exp_dir_list)))\n",
    "\n",
    "            for j, (exp, exp_dir) in enumerate(zip(exp_list, exp_dir_list)):\n",
    "                defect_arr[:, i, j] = np.loadtxt(os.path.join(exp_dir, 'Ndefects_act{}_exp{}.txt'.format(act, exp)))[-self.Nframes[N]:]\n",
    "\n",
    "                counts = np.loadtxt(os.path.join(exp_dir, 'av_counts_act{}_exp{}.txt'.format(act,exp)))[-self.Nframes[N]:,:]\n",
    "                vars = np.loadtxt(os.path.join(exp_dir, 'count_fluctuations_act{}_exp{}.txt'.format(act,exp)))[-self.Nframes[N]:,:]\n",
    "\n",
    "                idx_start_count = min(self.Nframes[N], len(counts))\n",
    "                av_counts[-idx_start_count:, :, i, j] = counts[-idx_start_count:, :]\n",
    "                var_counts[-idx_start_count:, :, i, j] = vars[-idx_start_count:, :]\n",
    "\n",
    "                if ext_sfac and sfac_counter < 10:\n",
    "                    try:\n",
    "                        sfac[-self.Nframes[N]:, :, :, i, sfac_counter] = np.load(os.path.join(exp_dir, 'structure_factor_act{}_exp{}.npy'.format(act,exp)))[-self.Nframes[N]:, :,:]\n",
    "                    except:\n",
    "                        pass\n",
    "                    try:\n",
    "                        pcf[-idx_start_count:, :, i, sfac_counter] = np.loadtxt(os.path.join(exp_dir, 'pcf.txt'.format(act,exp)))[-self.Nframes[N]:,:]\n",
    "                    except:\n",
    "                        pass\n",
    "                    if os.path.isfile(os.path.join(exp_dir,'sfac_analysis_completed.txt')):\n",
    "                        sfac_counter += 1\n",
    "    \n",
    "        dens_fluc = var_counts / (np.pi * self.window_sizes[N][:, None, None] ** 2) ** 2\n",
    "        if normalize:\n",
    "            av_dens = defect_arr / self.LX[N] ** 2\n",
    "            dens_fluc = dens_fluc / av_dens[:, None, :, :] ** 2\n",
    "\n",
    "        if save:\n",
    "            np.save(os.path.join(self.output_paths[N], 'defect_arr.npy'), defect_arr)\n",
    "            np.save(os.path.join(self.output_paths[N], 'av_counts.npy'), av_counts)\n",
    "            np.save(os.path.join(self.output_paths[N], 'var_counts.npy'), var_counts)\n",
    "            np.save(os.path.join(self.output_paths[N], 'dens_fluc.npy'), dens_fluc)\n",
    "\n",
    "            if ext_sfac:\n",
    "                np.save(os.path.join(self.output_paths[N], 'sfac.npy'), sfac)\n",
    "                np.save(os.path.join(self.output_paths[N], 'pcf.npy'), pcf)\n",
    "\n",
    "def plot_defects_per_activity(obj, activity, ax = None, Ndataset = 0, stationarity_dict = {}, alpha = 0.55):\n",
    "        \n",
    "    output_path = obj.output_paths[Ndataset]\n",
    "\n",
    "    act_idx = list(obj.act_list[Ndataset]).index(activity)   \n",
    "    Nframes = obj.Nframes[Ndataset]\n",
    "\n",
    "    try:\n",
    "        defect_arr_av = obj.get_arrays_av(Ndataset = Ndataset)[0] \n",
    "    except:\n",
    "        print('Defect array not found. Analyse defects first.')\n",
    "        return\n",
    "\n",
    "    if ax is None:\n",
    "        fig, ax = plt.subplots(figsize=(12, 6))\n",
    "        return_fig = True\n",
    "\n",
    "\n",
    "    ax.errorbar(np.arange(0, Nframes * obj.Ninfo[Ndataset], obj.Ninfo[Ndataset]), \\\n",
    "                        defect_arr_av[:, act_idx, 0], defect_arr_av[:, act_idx, 1], fmt='.', \\\n",
    "                        alpha = alpha, markersize=9, label='Activity = {}'.format(activity), color = f'C{1}') \n",
    "\n",
    "    if stationarity_dict != {}:\n",
    "            x = est_stationarity(defect_arr_av[:, act_idx, 0], **stationarity_dict)[0]\n",
    "    else:\n",
    "        x = obj.conv_list[Ndataset][act_idx]\n",
    "        \n",
    "    if x > 0:\n",
    "        ax.axvline(x, color='black', linestyle='--', alpha=0.5)\n",
    "\n",
    "    ax.grid()\n",
    "    ax.set(ylim = (0, np.max(defect_arr_av[:, act_idx, 0]) * 1.5))\n",
    "\n",
    "    if return_fig:\n",
    "        return fig, ax\n",
    "    return ax"
   ]
  },
  {
   "cell_type": "code",
   "execution_count": 3,
   "metadata": {},
   "outputs": [],
   "source": [
    "extract = False\n",
    "\n",
    "data_path = 'X:\\\\na_ndg'\n",
    "data_subdirs = [os.path.join(data_path, subdir) for subdir in os.listdir(data_path)[:-1]]\n",
    "save_path = 'data\\\\na_ndg'\n",
    "if not os.path.isdir(save_path):\n",
    "    os.mkdir(save_path)\n",
    "\n",
    "dir0 = data_subdirs[0]\n",
    "window_sizes = np.loadtxt(os.path.join(dir0, 'window_sizes.txt'))\n",
    "kbins = np.loadtxt(os.path.join(dir0, 'kbins.txt'))\n",
    "rad = np.loadtxt(os.path.join(dir0, 'rad.txt'))\n",
    "\n",
    "Nsim = len(os.listdir(data_path))\n",
    "Nframes = 1501\n",
    "Nwindows = len(window_sizes)\n",
    "\n",
    "defect_arr = np.nan * np.zeros((Nframes, Nsim))\n",
    "av_counts = np.nan * np.zeros([Nframes, Nwindows, Nsim])\n",
    "var_counts = np.nan * np.zeros_like(av_counts)\n",
    "sfac = np.nan * np.zeros((Nframes, len(kbins), 2, Nsim))\n",
    "pcf = np.nan * np.zeros((Nframes, len(rad), Nsim))\n",
    "\n",
    "if extract:\n",
    "    for i, dirr in enumerate(data_subdirs):\n",
    "        defect_arr[:, i] = np.loadtxt(os.path.join(dirr,f'Ndefects_N{i}.txt'))[-Nframes:]\n",
    "        av_counts[:,:,i] = np.loadtxt(os.path.join(dirr,f'av_counts_act_N{i}.txt'))[-Nframes:]\n",
    "        var_counts[:,:,i] = np.loadtxt(os.path.join(dirr,f'count_fluctuations_N{i}.txt'))[-Nframes:]\n",
    "        sfac[:, :, :, i] = np.load(os.path.join(dirr,f'structure_factor_N{i}.npy'))[-Nframes:]\n",
    "        pcf[:, :, i] = np.load(os.path.join(dirr,f'pcf.npy'))[-Nframes:]\n",
    "\n",
    "    np.save(os.path.join(save_path, 'window_sizes.npy'), window_sizes)\n",
    "    np.save(os.path.join(save_path, 'rad.npy'), window_sizes)\n",
    "    np.save(os.path.join(save_path, 'kbins.npy'), window_sizes)\n",
    "\n",
    "    np.save(os.path.join(save_path, 'defect_arr.npy'), defect_arr)\n",
    "    np.save(os.path.join(save_path, 'av_counts.npy'), av_counts)\n",
    "    np.save(os.path.join(save_path, 'var_counts.npy'), var_counts)\n",
    "    np.save(os.path.join(save_path, 'sfac.npy'), sfac)\n",
    "    np.save(os.path.join(save_path, 'pcf.npy'), pcf)\n",
    "else: \n",
    "    window_sizes = np.load(os.path.join(save_path, 'window_sizes.npy'))\n",
    "    rad = np.load(os.path.join(save_path, 'rad.npy'))\n",
    "    kbins = np.load(os.path.join(save_path, 'kbins.npy'))\n",
    "\n",
    "    defect_arr = np.load(os.path.join(save_path, 'defect_arr.npy'))\n",
    "    av_counts = np.load(os.path.join(save_path, 'av_counts.npy'))\n",
    "    var_counts = np.load(os.path.join(save_path, 'var_counts.npy'))\n",
    "    sfac = np.load(os.path.join(save_path, 'sfac.npy'))\n",
    "    pcf = np.load(os.path.join(save_path, 'pcf.npy'))\n"
   ]
  },
  {
   "cell_type": "code",
   "execution_count": 9,
   "metadata": {},
   "outputs": [
    {
     "data": {
      "text/plain": [
       "True"
      ]
     },
     "execution_count": 9,
     "metadata": {},
     "output_type": "execute_result"
    }
   ],
   "source": [
    "os.path.isfile(dict_path)"
   ]
  },
  {
   "cell_type": "code",
   "execution_count": 11,
   "metadata": {},
   "outputs": [
    {
     "data": {
      "text/plain": [
       "'c:\\\\Users\\\\Simon Andersen\\\\Projects\\\\Projects\\\\Thesis\\\\NematicAnalysis'"
      ]
     },
     "execution_count": 11,
     "metadata": {},
     "output_type": "execute_result"
    }
   ],
   "source": [
    "os.getcwd()"
   ]
  },
  {
   "cell_type": "code",
   "execution_count": 12,
   "metadata": {},
   "outputs": [],
   "source": [
    "dict_path = os.path.join('C:\\\\Users\\\\Simon Andersen\\\\Projects\\\\Projects\\\\Thesis\\\\NematicAnalysis', save_path, 'model_params0.pkl')"
   ]
  },
  {
   "cell_type": "code",
   "execution_count": 13,
   "metadata": {},
   "outputs": [
    {
     "data": {
      "text/plain": [
       "'C:\\\\Users\\\\Simon Andersen\\\\Projects\\\\Projects\\\\Thesis\\\\NematicAnalysis\\\\data\\\\na_ndg\\\\model_params0.pkl'"
      ]
     },
     "execution_count": 13,
     "metadata": {},
     "output_type": "execute_result"
    }
   ],
   "source": [
    "dict_path"
   ]
  },
  {
   "cell_type": "code",
   "execution_count": 14,
   "metadata": {},
   "outputs": [
    {
     "ename": "NotImplementedError",
     "evalue": "cannot instantiate 'PosixPath' on your system",
     "output_type": "error",
     "traceback": [
      "\u001b[1;31m---------------------------------------------------------------------------\u001b[0m",
      "\u001b[1;31mNotImplementedError\u001b[0m                       Traceback (most recent call last)",
      "\u001b[1;32m~\\AppData\\Local\\Temp\\ipykernel_19944\\1058182244.py\u001b[0m in \u001b[0;36m<cell line: 2>\u001b[1;34m()\u001b[0m\n\u001b[0;32m      1\u001b[0m \u001b[1;31m#dict_path = os.path.join(save_path, 'model_params0.pkl')\u001b[0m\u001b[1;33m\u001b[0m\u001b[1;33m\u001b[0m\u001b[0m\n\u001b[0;32m      2\u001b[0m \u001b[1;32mwith\u001b[0m \u001b[0mopen\u001b[0m\u001b[1;33m(\u001b[0m\u001b[0mdict_path\u001b[0m\u001b[1;33m,\u001b[0m \u001b[1;34m'rb'\u001b[0m\u001b[1;33m)\u001b[0m \u001b[1;32mas\u001b[0m \u001b[0mf\u001b[0m\u001b[1;33m:\u001b[0m\u001b[1;33m\u001b[0m\u001b[1;33m\u001b[0m\u001b[0m\n\u001b[1;32m----> 3\u001b[1;33m     \u001b[0mparams\u001b[0m \u001b[1;33m=\u001b[0m \u001b[0mpkl\u001b[0m\u001b[1;33m.\u001b[0m\u001b[0mload\u001b[0m\u001b[1;33m(\u001b[0m\u001b[0mf\u001b[0m\u001b[1;33m)\u001b[0m\u001b[1;33m\u001b[0m\u001b[1;33m\u001b[0m\u001b[0m\n\u001b[0m",
      "\u001b[1;32mc:\\Users\\Simon Andersen\\miniconda3\\envs\\sf\\lib\\pathlib.py\u001b[0m in \u001b[0;36m__new__\u001b[1;34m(cls, *args, **kwargs)\u001b[0m\n\u001b[0;32m   1082\u001b[0m         \u001b[0mself\u001b[0m \u001b[1;33m=\u001b[0m \u001b[0mcls\u001b[0m\u001b[1;33m.\u001b[0m\u001b[0m_from_parts\u001b[0m\u001b[1;33m(\u001b[0m\u001b[0margs\u001b[0m\u001b[1;33m,\u001b[0m \u001b[0minit\u001b[0m\u001b[1;33m=\u001b[0m\u001b[1;32mFalse\u001b[0m\u001b[1;33m)\u001b[0m\u001b[1;33m\u001b[0m\u001b[1;33m\u001b[0m\u001b[0m\n\u001b[0;32m   1083\u001b[0m         \u001b[1;32mif\u001b[0m \u001b[1;32mnot\u001b[0m \u001b[0mself\u001b[0m\u001b[1;33m.\u001b[0m\u001b[0m_flavour\u001b[0m\u001b[1;33m.\u001b[0m\u001b[0mis_supported\u001b[0m\u001b[1;33m:\u001b[0m\u001b[1;33m\u001b[0m\u001b[1;33m\u001b[0m\u001b[0m\n\u001b[1;32m-> 1084\u001b[1;33m             raise NotImplementedError(\"cannot instantiate %r on your system\"\n\u001b[0m\u001b[0;32m   1085\u001b[0m                                       % (cls.__name__,))\n\u001b[0;32m   1086\u001b[0m         \u001b[0mself\u001b[0m\u001b[1;33m.\u001b[0m\u001b[0m_init\u001b[0m\u001b[1;33m(\u001b[0m\u001b[1;33m)\u001b[0m\u001b[1;33m\u001b[0m\u001b[1;33m\u001b[0m\u001b[0m\n",
      "\u001b[1;31mNotImplementedError\u001b[0m: cannot instantiate 'PosixPath' on your system"
     ]
    }
   ],
   "source": [
    "#dict_path = os.path.join(save_path, 'model_params0.pkl')\n",
    "with open(dict_path, 'rb') as f:\n",
    "    params = pkl.load(f)"
   ]
  },
  {
   "cell_type": "code",
   "execution_count": 7,
   "metadata": {},
   "outputs": [
    {
     "ename": "NotImplementedError",
     "evalue": "cannot instantiate 'PosixPath' on your system",
     "output_type": "error",
     "traceback": [
      "\u001b[1;31m---------------------------------------------------------------------------\u001b[0m",
      "\u001b[1;31mNotImplementedError\u001b[0m                       Traceback (most recent call last)",
      "\u001b[1;32m~\\AppData\\Local\\Temp\\ipykernel_19944\\4053997833.py\u001b[0m in \u001b[0;36m<cell line: 1>\u001b[1;34m()\u001b[0m\n\u001b[0;32m      3\u001b[0m     \u001b[0mdict_path\u001b[0m \u001b[1;33m=\u001b[0m \u001b[0mos\u001b[0m\u001b[1;33m.\u001b[0m\u001b[0mpath\u001b[0m\u001b[1;33m.\u001b[0m\u001b[0mjoin\u001b[0m\u001b[1;33m(\u001b[0m\u001b[0msave_path\u001b[0m\u001b[1;33m,\u001b[0m \u001b[1;34mf'model_params{i}.pkl'\u001b[0m\u001b[1;33m)\u001b[0m\u001b[1;33m\u001b[0m\u001b[1;33m\u001b[0m\u001b[0m\n\u001b[0;32m      4\u001b[0m     \u001b[1;32mwith\u001b[0m \u001b[0mopen\u001b[0m\u001b[1;33m(\u001b[0m\u001b[0mdict_path\u001b[0m\u001b[1;33m,\u001b[0m \u001b[1;34m'rb'\u001b[0m\u001b[1;33m)\u001b[0m \u001b[1;32mas\u001b[0m \u001b[0mf\u001b[0m\u001b[1;33m:\u001b[0m\u001b[1;33m\u001b[0m\u001b[1;33m\u001b[0m\u001b[0m\n\u001b[1;32m----> 5\u001b[1;33m         \u001b[0mparams\u001b[0m \u001b[1;33m=\u001b[0m \u001b[0mpkl\u001b[0m\u001b[1;33m.\u001b[0m\u001b[0mload\u001b[0m\u001b[1;33m(\u001b[0m\u001b[0mf\u001b[0m\u001b[1;33m)\u001b[0m\u001b[1;33m\u001b[0m\u001b[1;33m\u001b[0m\u001b[0m\n\u001b[0m\u001b[0;32m      6\u001b[0m     \u001b[0mprint\u001b[0m\u001b[1;33m(\u001b[0m\u001b[0mparams\u001b[0m\u001b[1;33m)\u001b[0m\u001b[1;33m\u001b[0m\u001b[1;33m\u001b[0m\u001b[0m\n",
      "\u001b[1;32mc:\\Users\\Simon Andersen\\miniconda3\\envs\\sf\\lib\\pathlib.py\u001b[0m in \u001b[0;36m__new__\u001b[1;34m(cls, *args, **kwargs)\u001b[0m\n\u001b[0;32m   1082\u001b[0m         \u001b[0mself\u001b[0m \u001b[1;33m=\u001b[0m \u001b[0mcls\u001b[0m\u001b[1;33m.\u001b[0m\u001b[0m_from_parts\u001b[0m\u001b[1;33m(\u001b[0m\u001b[0margs\u001b[0m\u001b[1;33m,\u001b[0m \u001b[0minit\u001b[0m\u001b[1;33m=\u001b[0m\u001b[1;32mFalse\u001b[0m\u001b[1;33m)\u001b[0m\u001b[1;33m\u001b[0m\u001b[1;33m\u001b[0m\u001b[0m\n\u001b[0;32m   1083\u001b[0m         \u001b[1;32mif\u001b[0m \u001b[1;32mnot\u001b[0m \u001b[0mself\u001b[0m\u001b[1;33m.\u001b[0m\u001b[0m_flavour\u001b[0m\u001b[1;33m.\u001b[0m\u001b[0mis_supported\u001b[0m\u001b[1;33m:\u001b[0m\u001b[1;33m\u001b[0m\u001b[1;33m\u001b[0m\u001b[0m\n\u001b[1;32m-> 1084\u001b[1;33m             raise NotImplementedError(\"cannot instantiate %r on your system\"\n\u001b[0m\u001b[0;32m   1085\u001b[0m                                       % (cls.__name__,))\n\u001b[0;32m   1086\u001b[0m         \u001b[0mself\u001b[0m\u001b[1;33m.\u001b[0m\u001b[0m_init\u001b[0m\u001b[1;33m(\u001b[0m\u001b[1;33m)\u001b[0m\u001b[1;33m\u001b[0m\u001b[1;33m\u001b[0m\u001b[0m\n",
      "\u001b[1;31mNotImplementedError\u001b[0m: cannot instantiate 'PosixPath' on your system"
     ]
    }
   ],
   "source": [
    "for i in range(1):\n",
    "    \n",
    "    dict_path = os.path.join(save_path, f'model_params{i}.pkl')\n",
    "    with open(dict_path, 'rb') as f:\n",
    "        params = pkl.load(f)\n",
    "    print(params)"
   ]
  },
  {
   "cell_type": "code",
   "execution_count": null,
   "metadata": {},
   "outputs": [],
   "source": [
    "data_path = 'X:/na_ndg'\n",
    "data_subdirs = [os.path.join(data_path, subdir) for subdir in os.listdir(data_path)[:-1]]\n",
    "\n",
    "import shutil\n",
    "\n",
    "if not os.path.isdir(save_path):\n",
    "    os.mkdir(save_path)\n",
    "for i, dirr in enumerate(data_subdirs):\n",
    "    params_path = os.path.join(dirr,f'model_params.pkl')\n",
    "    dict_path = os.path.join(save_path, f'model_params{i}.pkl')\n",
    "    shutil.copyfile(params_path, dict_path)\n",
    "    with open(dict_path, 'rb') as f:\n",
    "        params = pkl.load(f)\n",
    "    print(params)"
   ]
  }
 ],
 "metadata": {
  "kernelspec": {
   "display_name": "sf",
   "language": "python",
   "name": "python3"
  },
  "language_info": {
   "codemirror_mode": {
    "name": "ipython",
    "version": 3
   },
   "file_extension": ".py",
   "mimetype": "text/x-python",
   "name": "python",
   "nbconvert_exporter": "python",
   "pygments_lexer": "ipython3",
   "version": "3.9.13"
  }
 },
 "nbformat": 4,
 "nbformat_minor": 2
}
