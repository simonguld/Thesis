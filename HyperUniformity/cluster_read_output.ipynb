{
 "cells": [
  {
   "cell_type": "code",
   "execution_count": 1,
   "metadata": {},
   "outputs": [],
   "source": [
    "import os\n",
    "import sys\n",
    "import pickle\n",
    "\n",
    "import numpy as np\n",
    "import matplotlib.pyplot as plt\n",
    "\n",
    "from utils import *\n",
    "from AnalyseDefects import AnalyseDefects\n",
    "\n",
    "plt.style.use('sg_article')"
   ]
  },
  {
   "cell_type": "code",
   "execution_count": 48,
   "metadata": {},
   "outputs": [
    {
     "name": "stdout",
     "output_type": "stream",
     "text": [
      "zeta_0.019_counter_0\n",
      "zeta_0.019_counter_1\n",
      "zeta_0.019_counter_2\n",
      "zeta_0.019_counter_3\n",
      "zeta_0.019_counter_4\n",
      "zeta_0.019_counter_5\n",
      "zeta_0.019_counter_6\n",
      "zeta_0.019_counter_7\n",
      "zeta_0.019_counter_8\n",
      "zeta_0.019_counter_9\n"
     ]
    }
   ],
   "source": [
    "path = f'C:\\\\Users\\\\Simon Andersen\\\\Documents\\\\Uni\\\\Speciale\\\\Hyperuniformity\\\\na512l_cl'\n",
    "d_cluster = dict(path = path, \\\n",
    "              suffix = \"cluster\", priority = -1, LX = 512, Nframes = 400)\n",
    "output_path = 'data\\\\nematic_analysis512_LL0.05\\\\cluster' \n",
    "if not os.path.exists(output_path):\n",
    "    os.makedirs(output_path)\n",
    "\n",
    "Nexp_list = []\n",
    "act_list = []\n",
    "act_dir_list = []\n",
    "\n",
    "for i, dir in enumerate(os.listdir(path)):\n",
    "    if dir.startswith('analysis'):\n",
    "        act_list.append(float(dir.split('_')[-1]))\n",
    "        act_dir_list.append(os.path.join(path, dir))\n",
    "for i, file in enumerate(os.listdir(os.path.join(path, os.listdir(path)[0]))):\n",
    "    print(file)\n",
    "    if file.startswith('zeta'):\n",
    "        Nexp_list.append(int(file.split('_')[-1]))\n"
   ]
  },
  {
   "cell_type": "code",
   "execution_count": 50,
   "metadata": {},
   "outputs": [
    {
     "data": {
      "text/plain": [
       "(['C:\\\\Users\\\\Simon Andersen\\\\Documents\\\\Uni\\\\Speciale\\\\Hyperuniformity\\\\na512l_cl\\\\analysis_zeta_0.019',\n",
       "  'C:\\\\Users\\\\Simon Andersen\\\\Documents\\\\Uni\\\\Speciale\\\\Hyperuniformity\\\\na512l_cl\\\\analysis_zeta_0.0225',\n",
       "  'C:\\\\Users\\\\Simon Andersen\\\\Documents\\\\Uni\\\\Speciale\\\\Hyperuniformity\\\\na512l_cl\\\\analysis_zeta_0.023',\n",
       "  'C:\\\\Users\\\\Simon Andersen\\\\Documents\\\\Uni\\\\Speciale\\\\Hyperuniformity\\\\na512l_cl\\\\analysis_zeta_0.0235',\n",
       "  'C:\\\\Users\\\\Simon Andersen\\\\Documents\\\\Uni\\\\Speciale\\\\Hyperuniformity\\\\na512l_cl\\\\analysis_zeta_0.024'],\n",
       " [0.019, 0.0225, 0.023, 0.0235, 0.024])"
      ]
     },
     "execution_count": 50,
     "metadata": {},
     "output_type": "execute_result"
    }
   ],
   "source": [
    "act_dir_list, act_list"
   ]
  },
  {
   "cell_type": "code",
   "execution_count": 40,
   "metadata": {},
   "outputs": [],
   "source": [
    "act_idx = -1\n",
    "exp_idx = 0\n",
    "Nframes = d_cluster['Nframes']\n",
    "Nexp = len(Nexp_list)\n",
    "Nact = len(act_list)\n",
    "\n",
    "pt = os.path.join(path, os.listdir(path)[act_idx], f'zeta_{act_list[act_idx]}_counter_{Nexp_list[exp_idx]}')"
   ]
  },
  {
   "cell_type": "code",
   "execution_count": 5,
   "metadata": {},
   "outputs": [
    {
     "data": {
      "text/plain": [
       "'C:\\\\Users\\\\Simon Andersen\\\\Documents\\\\Uni\\\\Speciale\\\\Hyperuniformity\\\\na512l_cl\\\\analysis_zeta_0.024\\\\zeta_0.024_counter_0'"
      ]
     },
     "execution_count": 5,
     "metadata": {},
     "output_type": "execute_result"
    }
   ],
   "source": [
    "dirr = [os.path.join(path, os.listdir(path)[i], f'zeta_{act_list[]}_counter_{Nexp_list[exp_idx]}')]"
   ]
  },
  {
   "cell_type": "code",
   "execution_count": 6,
   "metadata": {},
   "outputs": [],
   "source": [
    "with open(os.path.join(pt, 'defect_positions.pkl'), 'rb') as f:\n",
    "        defect_positions = pickle.load(f)\n",
    "with open(os.path.join(pt, 'labels_rm33.pkl'), 'rb') as f:\n",
    "        labels = pickle.load(f)\n",
    "\n",
    "cluster_arr = np.nan * np.zeros([Nframes, 4, Nact, Nexp])\n",
    "Ncmin = 0"
   ]
  },
  {
   "cell_type": "code",
   "execution_count": 28,
   "metadata": {},
   "outputs": [
    {
     "name": "stdout",
     "output_type": "stream",
     "text": [
      "Number of clustered defects: 424\n",
      "Number of unclustered defects: 2\n",
      "Number of clusters: 5\n",
      "Averge number of defects per cluster: 60.86 +/- 96.19\n"
     ]
    }
   ],
   "source": [
    "la = labels[0]\n",
    "\n",
    "min_cluster_size = 2\n",
    "\n",
    "unique, counts = np.unique(la, return_counts=True)\n",
    "# Only count clusters with more than min_cluster_size defects\n",
    "mask = (counts >= min_cluster_size)\n",
    "\n",
    "cluster_sizes, cluster_counts = np.unique(counts[mask], return_counts=True)\n",
    "\n",
    "\n",
    "Ndefects_tot = counts.sum()\n",
    "Ndefects_unclustered = counts[~mask].sum()\n",
    "Ndefects_clustered = counts[mask].sum()\n",
    "Nclusters = len(cluster_sizes)\n",
    "cluster_size_av = np.mean(counts[mask])\n",
    "cluster_size_std = np.std(counts[mask])\n",
    "\n",
    "print(f'Number of clustered defects: {Ndefects_clustered}')\n",
    "print(f'Number of unclustered defects: {Ndefects_unclustered}')\n",
    "print(f'Number of clusters: {Nclusters}')\n",
    "print(f'Averge number of defects per cluster: {np.mean(counts):.2f} +/- {np.std(counts):.2f}')"
   ]
  },
  {
   "cell_type": "code",
   "execution_count": 41,
   "metadata": {},
   "outputs": [],
   "source": [
    "with open(os.path.join(pt, 'defect_positions.pkl'), 'rb') as f:\n",
    "        defect_positions = pickle.load(f)\n",
    "with open(os.path.join(pt, 'labels_rm33.pkl'), 'rb') as f:\n",
    "        labels = pickle.load(f)\n",
    "\n",
    "\n",
    "cluster_arr = np.nan * np.zeros([Nframes, 5, Nact, Nexp])\n",
    "Ncmin = 2\n",
    "\n",
    "for j, frame in enumerate(labels[:Nframes]):\n",
    "\n",
    "        # store the number of defects \n",
    "        cluster_arr[j, 0, act_idx, exp_idx] = len(frame)\n",
    "\n",
    "        unique, counts = np.unique(frame, return_counts=True)\n",
    "\n",
    "        # Only count clusters with more than Ncmin defects\n",
    "        mask = (counts >= Ncmin)\n",
    "\n",
    "        counts_above_min = counts[mask]\n",
    "\n",
    "        # Find the sizes of the clusters and the number of clusters of each size\n",
    "        cluster_sizes, cluster_counts = np.unique(counts_above_min, return_counts=True)\n",
    "\n",
    "        # store the number of clustered defects\n",
    "        cluster_arr[j, 1, act_idx, exp_idx] = counts_above_min.sum()\n",
    "\n",
    "        # store the number of clusters\n",
    "        cluster_arr[j, 2, act_idx, exp_idx] = len(cluster_sizes)\n",
    "   \n",
    "        # store the average cluster size\n",
    "        cluster_arr[j, 3, act_idx, exp_idx] = np.mean(counts_above_min)\n",
    "\n",
    "        # store the standard deviation of the cluster sizes\n",
    "        cluster_arr[j, 4, act_idx, exp_idx] = np.std(counts_above_min)\n",
    "\n",
    "\n",
    "\n",
    "\n",
    "# store Ndefects_tot, Ndefects_clusterd, Nclust, AvgSize, StidSize for each frame and each activity and each experiment\n",
    "# something with probability of belonging to a cluster up to N=20 or something?\n",
    "# excluding singles (but counting them) and possibly also pairs"
   ]
  },
  {
   "cell_type": "code",
   "execution_count": 45,
   "metadata": {},
   "outputs": [
    {
     "data": {
      "text/plain": [
       "array([423.5875    , 420.5225    ,   3.895     , 123.28929466,\n",
       "         7.59574666])"
      ]
     },
     "execution_count": 45,
     "metadata": {},
     "output_type": "execute_result"
    }
   ],
   "source": [
    "avv = cluster_arr[:, :, act_idx, exp_idx].mean(axis=0)\n",
    "avv[-1] /= np.sqrt(Nframes)\n",
    "avv"
   ]
  },
  {
   "cell_type": "code",
   "execution_count": 54,
   "metadata": {},
   "outputs": [],
   "source": [
    "\n",
    "def extract_results(Nframes, act_list, act_dir_list, Nexp, Ncmin=2, save = True,):\n",
    "    \"\"\"\n",
    "    Analyse the defects for all the input folders\n",
    "    \"\"\"\n",
    "    for N in range(1):\n",
    "\n",
    "        # create arrays to store the clustering data\n",
    "        cluster_arr = np.nan * np.zeros([Nframes, 5, len(act_list), Nexp])\n",
    "        \n",
    "      #  print('Analysing clustering data for input folder {}'.format(self.input_paths[N]))\n",
    "        for i, (act, act_dir) in enumerate(zip(act_list, act_dir_list)):\n",
    "\n",
    "            exp_list = []\n",
    "            exp_dir_list = []\n",
    "\n",
    "            for file in os.listdir(act_dir):\n",
    "                exp_count = file.split('_')[-1]\n",
    "                exp_list.append(int(exp_count))\n",
    "                exp_dir_list.append(os.path.join(act_dir, file))\n",
    "\n",
    "            # sort the activity list and the activity directory list\n",
    "            exp_list, exp_dir_list = zip(*sorted(zip(exp_list, exp_dir_list)))\n",
    "\n",
    "            for j, (exp, exp_dir) in enumerate(zip(exp_list, exp_dir_list)):\n",
    "\n",
    "\n",
    "           #     with open(os.path.join(exp_dir, 'defect_positions.pkl'), 'rb') as f:\n",
    "            #            defect_positions = pickle.load(f)\n",
    "                with open(os.path.join(exp_dir, 'labels_rm33.pkl'), 'rb') as f:\n",
    "                        labels = pickle.load(f)\n",
    "\n",
    "\n",
    "                for j, frame in enumerate(labels[:Nframes]):\n",
    "\n",
    "                        # store the number of defects \n",
    "                        cluster_arr[j, 0, act_idx, exp_idx] = len(frame)\n",
    "\n",
    "                        unique, counts = np.unique(frame, return_counts=True)\n",
    "\n",
    "                        # Only count clusters with more than Ncmin defects\n",
    "                        mask = (counts >= Ncmin)\n",
    "\n",
    "                        counts_above_min = counts[mask]\n",
    "\n",
    "                        # Find the sizes of the clusters and the number of clusters of each size\n",
    "                        cluster_sizes, cluster_counts = np.unique(counts_above_min, return_counts=True)\n",
    "\n",
    "                        # store the number of clustered defects\n",
    "                        cluster_arr[j, 1, act_idx, exp_idx] = counts_above_min.sum()\n",
    "\n",
    "                        # store the number of clusters\n",
    "                        cluster_arr[j, 2, act_idx, exp_idx] = len(cluster_sizes)\n",
    "                \n",
    "                        # store the average cluster size\n",
    "                        cluster_arr[j, 3, act_idx, exp_idx] = np.mean(counts_above_min)\n",
    "\n",
    "                        # store the standard deviation of the cluster sizes\n",
    "                        cluster_arr[j, 4, act_idx, exp_idx] = np.std(counts_above_min)\n",
    "\n",
    "        if save:\n",
    "            pass\n",
    "    return cluster_arr"
   ]
  },
  {
   "cell_type": "code",
   "execution_count": 55,
   "metadata": {},
   "outputs": [
    {
     "name": "stderr",
     "output_type": "stream",
     "text": [
      "c:\\Users\\Simon Andersen\\miniconda3\\envs\\sf\\lib\\site-packages\\numpy\\core\\fromnumeric.py:3504: RuntimeWarning: Mean of empty slice.\n",
      "  return _methods._mean(a, axis=axis, dtype=dtype,\n",
      "c:\\Users\\Simon Andersen\\miniconda3\\envs\\sf\\lib\\site-packages\\numpy\\core\\_methods.py:129: RuntimeWarning: invalid value encountered in scalar divide\n",
      "  ret = ret.dtype.type(ret / rcount)\n",
      "c:\\Users\\Simon Andersen\\miniconda3\\envs\\sf\\lib\\site-packages\\numpy\\core\\_methods.py:206: RuntimeWarning: Degrees of freedom <= 0 for slice\n",
      "  ret = _var(a, axis=axis, dtype=dtype, out=out, ddof=ddof,\n",
      "c:\\Users\\Simon Andersen\\miniconda3\\envs\\sf\\lib\\site-packages\\numpy\\core\\_methods.py:163: RuntimeWarning: invalid value encountered in divide\n",
      "  arrmean = um.true_divide(arrmean, div, out=arrmean,\n",
      "c:\\Users\\Simon Andersen\\miniconda3\\envs\\sf\\lib\\site-packages\\numpy\\core\\_methods.py:198: RuntimeWarning: invalid value encountered in scalar divide\n",
      "  ret = ret.dtype.type(ret / rcount)\n"
     ]
    },
    {
     "ename": "TypeError",
     "evalue": "object of type 'NoneType' has no len()",
     "output_type": "error",
     "traceback": [
      "\u001b[1;31m---------------------------------------------------------------------------\u001b[0m",
      "\u001b[1;31mTypeError\u001b[0m                                 Traceback (most recent call last)",
      "\u001b[1;32m~\\AppData\\Local\\Temp\\ipykernel_15064\\2425454803.py\u001b[0m in \u001b[0;36m<cell line: 1>\u001b[1;34m()\u001b[0m\n\u001b[1;32m----> 1\u001b[1;33m \u001b[0mcl_arr\u001b[0m \u001b[1;33m=\u001b[0m \u001b[0mextract_results\u001b[0m\u001b[1;33m(\u001b[0m\u001b[0mNframes\u001b[0m\u001b[1;33m,\u001b[0m \u001b[0mact_list\u001b[0m\u001b[1;33m,\u001b[0m \u001b[0mact_dir_list\u001b[0m\u001b[1;33m,\u001b[0m \u001b[0mNexp\u001b[0m\u001b[1;33m,\u001b[0m \u001b[0mNcmin\u001b[0m\u001b[1;33m=\u001b[0m\u001b[1;36m2\u001b[0m\u001b[1;33m,\u001b[0m \u001b[0msave\u001b[0m\u001b[1;33m=\u001b[0m\u001b[1;32mFalse\u001b[0m\u001b[1;33m)\u001b[0m\u001b[1;33m\u001b[0m\u001b[1;33m\u001b[0m\u001b[0m\n\u001b[0m",
      "\u001b[1;32m~\\AppData\\Local\\Temp\\ipykernel_15064\\3041303522.py\u001b[0m in \u001b[0;36mextract_results\u001b[1;34m(Nframes, act_list, act_dir_list, Nexp, Ncmin, save)\u001b[0m\n\u001b[0;32m     34\u001b[0m \u001b[1;33m\u001b[0m\u001b[0m\n\u001b[0;32m     35\u001b[0m                         \u001b[1;31m# store the number of defects\u001b[0m\u001b[1;33m\u001b[0m\u001b[1;33m\u001b[0m\u001b[0m\n\u001b[1;32m---> 36\u001b[1;33m                         \u001b[0mcluster_arr\u001b[0m\u001b[1;33m[\u001b[0m\u001b[0mj\u001b[0m\u001b[1;33m,\u001b[0m \u001b[1;36m0\u001b[0m\u001b[1;33m,\u001b[0m \u001b[0mact_idx\u001b[0m\u001b[1;33m,\u001b[0m \u001b[0mexp_idx\u001b[0m\u001b[1;33m]\u001b[0m \u001b[1;33m=\u001b[0m \u001b[0mlen\u001b[0m\u001b[1;33m(\u001b[0m\u001b[0mframe\u001b[0m\u001b[1;33m)\u001b[0m\u001b[1;33m\u001b[0m\u001b[1;33m\u001b[0m\u001b[0m\n\u001b[0m\u001b[0;32m     37\u001b[0m \u001b[1;33m\u001b[0m\u001b[0m\n\u001b[0;32m     38\u001b[0m                         \u001b[0munique\u001b[0m\u001b[1;33m,\u001b[0m \u001b[0mcounts\u001b[0m \u001b[1;33m=\u001b[0m \u001b[0mnp\u001b[0m\u001b[1;33m.\u001b[0m\u001b[0munique\u001b[0m\u001b[1;33m(\u001b[0m\u001b[0mframe\u001b[0m\u001b[1;33m,\u001b[0m \u001b[0mreturn_counts\u001b[0m\u001b[1;33m=\u001b[0m\u001b[1;32mTrue\u001b[0m\u001b[1;33m)\u001b[0m\u001b[1;33m\u001b[0m\u001b[1;33m\u001b[0m\u001b[0m\n",
      "\u001b[1;31mTypeError\u001b[0m: object of type 'NoneType' has no len()"
     ]
    }
   ],
   "source": [
    "cl_arr = extract_results(Nframes, act_list, act_dir_list, Nexp, Ncmin=2, save=False)"
   ]
  }
 ],
 "metadata": {
  "kernelspec": {
   "display_name": "sf",
   "language": "python",
   "name": "python3"
  },
  "language_info": {
   "codemirror_mode": {
    "name": "ipython",
    "version": 3
   },
   "file_extension": ".py",
   "mimetype": "text/x-python",
   "name": "python",
   "nbconvert_exporter": "python",
   "pygments_lexer": "ipython3",
   "version": "3.9.13"
  }
 },
 "nbformat": 4,
 "nbformat_minor": 2
}
