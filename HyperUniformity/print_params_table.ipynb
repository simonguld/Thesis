{
 "cells": [
  {
   "cell_type": "code",
   "execution_count": 1,
   "metadata": {},
   "outputs": [
    {
     "name": "stderr",
     "output_type": "stream",
     "text": [
      "C:\\Users\\Simon Andersen\\AppData\\Local\\Temp\\ipykernel_15452\\4065721970.py:11: FutureWarning: The default value of regex will change from True to False in a future version. In addition, single character regular expressions will *not* be treated as literal strings when regex=True.\n",
      "  df[col] = df[col].str.replace('[', '')\n",
      "C:\\Users\\Simon Andersen\\AppData\\Local\\Temp\\ipykernel_15452\\4065721970.py:12: FutureWarning: The default value of regex will change from True to False in a future version. In addition, single character regular expressions will *not* be treated as literal strings when regex=True.\n",
      "  df[col] = df[col].str.replace(']', '')\n"
     ]
    }
   ],
   "source": [
    "import pandas as pd\n",
    "\n",
    "params_path = output_path = 'C:\\\\Users\\\\Simon Andersen\\\\Documents\\\\Uni\\\\Speciale\\\\Hyperuniformity\\\\output_old\\\\output_5trials\\\\model_params.csv'\n",
    "\n",
    "\n",
    "# Creating a pandas DataFrame\n",
    "df = pd.read_csv(params_path, index_col=0)\n",
    "\n",
    "# drop ']' and '[' from the string\n",
    "for col in df.columns:\n",
    "    df[col] = df[col].str.replace('[', '')\n",
    "    df[col] = df[col].str.replace(']', '')\n"
   ]
  },
  {
   "cell_type": "code",
   "execution_count": 4,
   "metadata": {},
   "outputs": [
    {
     "name": "stdout",
     "output_type": "stream",
     "text": [
      "LX 0    256\n",
      "Name: LX, dtype: object\n",
      "LY 0    256\n",
      "Name: LY, dtype: object\n",
      "BC 0    0\n",
      "Name: BC, dtype: object\n",
      "nsteps 0    100000\n",
      "Name: nsteps, dtype: object\n",
      "nsubsteps 0    1\n",
      "Name: nsubsteps, dtype: object\n",
      "ninfo 0    500\n",
      "Name: ninfo, dtype: object\n",
      "nstart 0    10000\n",
      "Name: nstart, dtype: object\n",
      "angle 0    0.0\n",
      "Name: angle, dtype: object\n",
      "noise 0    0.05\n",
      "Name: noise, dtype: object\n",
      "rho 0    40.0\n",
      "Name: rho, dtype: object\n",
      "Gamma 0    0.05\n",
      "Name: Gamma, dtype: object\n",
      "xi 0    1.0\n",
      "Name: xi, dtype: object\n",
      "xiS 0    1.0\n",
      "Name: xiS, dtype: object\n",
      "zeta 0    0.1\n",
      "Name: zeta, dtype: object\n",
      "zeta_iso 0    0.0\n",
      "Name: zeta_iso, dtype: object\n",
      "tau 0    1.0\n",
      "Name: tau, dtype: object\n",
      "friction 0    0.0\n",
      "Name: friction, dtype: object\n",
      "K1 0    0.05\n",
      "Name: K1, dtype: object\n",
      "K3 0    0.05\n",
      "Name: K3, dtype: object\n",
      "L1 0    0.0\n",
      "Name: L1, dtype: object\n",
      "L2 0    0.05\n",
      "Name: L2, dtype: object\n",
      "L3 0    0.0\n",
      "Name: L3, dtype: object\n",
      "use_L3 0    0\n",
      "Name: use_L3, dtype: object\n",
      "CC 0    1.0\n",
      "Name: CC, dtype: object\n",
      "u_kBT 0    0.0\n",
      "Name: u_kBT, dtype: object\n",
      "Q_kBT 0    0.0\n",
      "Name: Q_kBT, dtype: object\n",
      "Q_fluc_mode 0    1\n",
      "Name: Q_fluc_mode, dtype: object\n",
      "no_backflow 0    0\n",
      "Name: no_backflow, dtype: object\n",
      "use_init_conds 0    False\n",
      "Name: use_init_conds, dtype: object\n",
      "anchor1 0    0.0\n",
      "Name: anchor1, dtype: object\n",
      "anchor2 0    0.0\n",
      "Name: anchor2, dtype: object\n",
      "phase_twist 0    0.0\n",
      "Name: phase_twist, dtype: object\n",
      "num_frames 0    181\n",
      "Name: num_frames, dtype: object\n"
     ]
    }
   ],
   "source": [
    "for col in df.columns:\n",
    "    print(col, df[col])"
   ]
  },
  {
   "cell_type": "code",
   "execution_count": 13,
   "metadata": {},
   "outputs": [
    {
     "name": "stdout",
     "output_type": "stream",
     "text": [
      "<class 'pandas.core.frame.DataFrame'>\n",
      "Int64Index: 1 entries, 0 to 0\n",
      "Data columns (total 33 columns):\n",
      " #   Column          Non-Null Count  Dtype \n",
      "---  ------          --------------  ----- \n",
      " 0   LX              1 non-null      object\n",
      " 1   LY              1 non-null      object\n",
      " 2   BC              1 non-null      object\n",
      " 3   nsteps          1 non-null      object\n",
      " 4   nsubsteps       1 non-null      object\n",
      " 5   ninfo           1 non-null      object\n",
      " 6   nstart          1 non-null      object\n",
      " 7   angle           1 non-null      object\n",
      " 8   noise           1 non-null      object\n",
      " 9   rho             1 non-null      object\n",
      " 10  Gamma           1 non-null      object\n",
      " 11  xi              1 non-null      object\n",
      " 12  xiS             1 non-null      object\n",
      " 13  zeta            1 non-null      object\n",
      " 14  zeta_iso        1 non-null      object\n",
      " 15  tau             1 non-null      object\n",
      " 16  friction        1 non-null      object\n",
      " 17  K1              1 non-null      object\n",
      " 18  K3              1 non-null      object\n",
      " 19  L1              1 non-null      object\n",
      " 20  L2              1 non-null      object\n",
      " 21  L3              1 non-null      object\n",
      " 22  use_L3          1 non-null      object\n",
      " 23  CC              1 non-null      object\n",
      " 24  u_kBT           1 non-null      object\n",
      " 25  Q_kBT           1 non-null      object\n",
      " 26  Q_fluc_mode     1 non-null      object\n",
      " 27  no_backflow     1 non-null      object\n",
      " 28  use_init_conds  1 non-null      object\n",
      " 29  anchor1         1 non-null      object\n",
      " 30  anchor2         1 non-null      object\n",
      " 31  phase_twist     1 non-null      object\n",
      " 32  num_frames      1 non-null      object\n",
      "dtypes: object(33)\n",
      "memory usage: 272.0+ bytes\n"
     ]
    }
   ],
   "source": [
    "df.info()"
   ]
  },
  {
   "cell_type": "code",
   "execution_count": 15,
   "metadata": {},
   "outputs": [
    {
     "data": {
      "text/plain": [
       "Index(['LX', 'LY', 'BC', 'nsteps', 'nsubsteps', 'ninfo', 'nstart', 'angle',\n",
       "       'noise', 'rho', 'Gamma', 'xi', 'xiS', 'zeta', 'zeta_iso', 'tau',\n",
       "       'friction', 'K1', 'K3', 'L1', 'L2', 'L3', 'use_L3', 'CC', 'u_kBT',\n",
       "       'Q_kBT', 'Q_fluc_mode', 'no_backflow', 'use_init_conds', 'anchor1',\n",
       "       'anchor2', 'phase_twist', 'num_frames'],\n",
       "      dtype='object')"
      ]
     },
     "execution_count": 15,
     "metadata": {},
     "output_type": "execute_result"
    }
   ],
   "source": [
    "df.columns"
   ]
  },
  {
   "cell_type": "code",
   "execution_count": 31,
   "metadata": {},
   "outputs": [
    {
     "data": {
      "text/html": [
       "<div>\n",
       "<style scoped>\n",
       "    .dataframe tbody tr th:only-of-type {\n",
       "        vertical-align: middle;\n",
       "    }\n",
       "\n",
       "    .dataframe tbody tr th {\n",
       "        vertical-align: top;\n",
       "    }\n",
       "\n",
       "    .dataframe thead th {\n",
       "        text-align: right;\n",
       "    }\n",
       "</style>\n",
       "<table border=\"1\" class=\"dataframe\">\n",
       "  <thead>\n",
       "    <tr style=\"text-align: right;\">\n",
       "      <th></th>\n",
       "      <th>angle</th>\n",
       "      <th>noise</th>\n",
       "      <th>rho</th>\n",
       "      <th>Gamma</th>\n",
       "      <th>xi</th>\n",
       "      <th>xiS</th>\n",
       "      <th>zeta</th>\n",
       "      <th>zeta_iso</th>\n",
       "      <th>tau</th>\n",
       "      <th>friction</th>\n",
       "      <th>...</th>\n",
       "      <th>K3</th>\n",
       "      <th>L1</th>\n",
       "      <th>L2</th>\n",
       "      <th>L3</th>\n",
       "      <th>use_L3</th>\n",
       "      <th>CC</th>\n",
       "      <th>u_kBT</th>\n",
       "      <th>Q_kBT</th>\n",
       "      <th>Q_fluc_mode</th>\n",
       "      <th>no_backflow</th>\n",
       "    </tr>\n",
       "  </thead>\n",
       "  <tbody>\n",
       "    <tr>\n",
       "      <th>0</th>\n",
       "      <td>0.0</td>\n",
       "      <td>0.05</td>\n",
       "      <td>40.0</td>\n",
       "      <td>0.05</td>\n",
       "      <td>1.0</td>\n",
       "      <td>1.0</td>\n",
       "      <td>0.1</td>\n",
       "      <td>0.0</td>\n",
       "      <td>1.0</td>\n",
       "      <td>0.0</td>\n",
       "      <td>...</td>\n",
       "      <td>0.05</td>\n",
       "      <td>0.0</td>\n",
       "      <td>0.05</td>\n",
       "      <td>0.0</td>\n",
       "      <td>0</td>\n",
       "      <td>1.0</td>\n",
       "      <td>0.0</td>\n",
       "      <td>0.0</td>\n",
       "      <td>1</td>\n",
       "      <td>0</td>\n",
       "    </tr>\n",
       "  </tbody>\n",
       "</table>\n",
       "<p>1 rows × 21 columns</p>\n",
       "</div>"
      ],
      "text/plain": [
       "  angle noise   rho Gamma   xi  xiS zeta zeta_iso  tau friction  ...    K3  \\\n",
       "0   0.0  0.05  40.0  0.05  1.0  1.0  0.1      0.0  1.0      0.0  ...  0.05   \n",
       "\n",
       "    L1    L2   L3 use_L3   CC u_kBT Q_kBT Q_fluc_mode no_backflow  \n",
       "0  0.0  0.05  0.0      0  1.0   0.0   0.0           1           0  \n",
       "\n",
       "[1 rows x 21 columns]"
      ]
     },
     "execution_count": 31,
     "metadata": {},
     "output_type": "execute_result"
    }
   ],
   "source": [
    "df[tab2]"
   ]
  },
  {
   "cell_type": "code",
   "execution_count": 29,
   "metadata": {},
   "outputs": [
    {
     "name": "stdout",
     "output_type": "stream",
     "text": [
      "\\begin{tabular}{lllllllllllllllllllll}\n",
      "\\toprule\n",
      "angle & noise &  rho & Gamma &  xi & xiS & zeta & zeta\\_iso & tau & friction &   K1 &   K3 &  L1 &   L2 &  L3 & use\\_L3 &  CC & u\\_kBT & Q\\_kBT & Q\\_fluc\\_mode & no\\_backflow \\\\\n",
      "\\midrule\n",
      "  0.0 &  0.05 & 40.0 &  0.05 & 1.0 & 1.0 &  0.1 &      0.0 & 1.0 &      0.0 & 0.05 & 0.05 & 0.0 & 0.05 & 0.0 &      0 & 1.0 &   0.0 &   0.0 &           1 &           0 \\\\\n",
      "\\bottomrule\n",
      "\\end{tabular}\n",
      "\n"
     ]
    },
    {
     "name": "stderr",
     "output_type": "stream",
     "text": [
      "C:\\Users\\Simon Andersen\\AppData\\Local\\Temp\\ipykernel_11052\\3487364820.py:6: FutureWarning: In future versions `DataFrame.to_latex` is expected to utilise the base implementation of `Styler.to_latex` for formatting and rendering. The arguments signature may therefore change. It is recommended instead to use `DataFrame.style.to_latex` which also contains additional functionality.\n",
      "  latex_table = df[tab2].to_latex(index=False)\n"
     ]
    }
   ],
   "source": [
    "tab1 = ['LX', 'LY', 'nsteps', 'nsubsteps', 'nstart', 'ninfo', 'num_frames']\n",
    "tab2 = ['angle',\n",
    "       'noise', 'rho', 'Gamma', 'xi', 'xiS', 'zeta', 'zeta_iso', 'tau',\n",
    "       'friction', 'K1', 'K3', 'L1', 'L2', 'L3', 'use_L3', 'CC', 'u_kBT',\n",
    "       'Q_kBT', 'Q_fluc_mode', 'no_backflow', 'use_init_conds', 'anchor1',\n",
    "       'anchor2', 'phase_twist',]\n",
    "# Generating LaTeX table\n",
    "latex_table = df[tab2].to_latex(index=False)\n",
    "\n",
    "print(latex_table)"
   ]
  }
 ],
 "metadata": {
  "kernelspec": {
   "display_name": "tf",
   "language": "python",
   "name": "python3"
  },
  "language_info": {
   "codemirror_mode": {
    "name": "ipython",
    "version": 3
   },
   "file_extension": ".py",
   "mimetype": "text/x-python",
   "name": "python",
   "nbconvert_exporter": "python",
   "pygments_lexer": "ipython3",
   "version": "3.10.10"
  }
 },
 "nbformat": 4,
 "nbformat_minor": 2
}
