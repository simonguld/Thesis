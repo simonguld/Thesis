{
 "cells": [
  {
   "cell_type": "code",
   "execution_count": 124,
   "id": "eec9e1b5",
   "metadata": {},
   "outputs": [],
   "source": [
    "import pymorton as pm\n",
    "from random import randrange\n",
    "import numpy as np\n",
    "import zCurve as zC\n",
    "from itertools import permutations\n",
    "\n",
    "def coordinate_permutations(coord):\n",
    "    \"\"\"\n",
    "    Given a coordinate (tuple or list) of length D,\n",
    "    return all D! permutations as tuples.\n",
    "    \"\"\"\n",
    "    return list(permutations(coord))\n"
   ]
  },
  {
   "cell_type": "code",
   "execution_count": 4,
   "id": "84d5c0c9",
   "metadata": {},
   "outputs": [],
   "source": [
    "from random import randrange\n",
    "\n",
    "bit_size = 16\n",
    "max_val = 2**bit_size - 1\n",
    "no_samples = 10**6\n",
    "data_points = [(randrange(0, max_val), randrange(0, max_val), randrange(0, max_val)) for i in range(no_samples)]"
   ]
  },
  {
   "cell_type": "code",
   "execution_count": 13,
   "id": "7e4ba980",
   "metadata": {},
   "outputs": [
    {
     "data": {
      "text/plain": [
       "1000000"
      ]
     },
     "execution_count": 13,
     "metadata": {},
     "output_type": "execute_result"
    }
   ],
   "source": [
    "import zCurve as z \n",
    "morton_codes = z.par_interlace(data_points, dims=3, bits_per_dim=16)\n",
    "#data_points == z.par_deinterlace(morton_codes, dims=3)\n",
    "len(morton_codes)\n"
   ]
  },
  {
   "cell_type": "code",
   "execution_count": null,
   "id": "f1b1fe44",
   "metadata": {},
   "outputs": [],
   "source": [
    "N=2\n",
    "\n",
    "arr=np.linspace(1,48,48).reshape((3,4,4)).astype(np.uint8)\n",
    "arr=np.ones((N,N,N)).astype(np.uint8)\n",
    "dims = arr.ndim\n",
    "Nx, Ny, Nz = arr.shape\n",
    "bits_per_dim=int(np.log2(max(Nx, Ny, Nz)))\n",
    "Npermutations = np.math.factorial(dims)\n",
    "#print(arr)\n",
    "\n",
    "# choose uint type based on bits_per_dim\n",
    "if bits_per_dim * dims <= 8:\n",
    "    dtype = np.uint8\n",
    "elif bits_per_dim * dims <= 16:\n",
    "    dtype = np.uint16\n",
    "elif bits_per_dim * dims <= 32:\n",
    "    dtype = np.uint32\n",
    "else:\n",
    "    dtype = np.uint64\n",
    "\n",
    "print(dtype)\n",
    "\n",
    "# Compute Morton codes for each voxel\n",
    "codes1 = np.empty((Nx, Ny, Nz, Npermutations), dtype=dtype)\n",
    "codes = np.empty((Nx, Ny, Nz, Npermutations), dtype=dtype)\n",
    "for x in range(Nx):\n",
    "    for y in range(Ny):\n",
    "        for z in range(Nz):\n",
    "          #  codes1[x, y, z] = pm.interleave3(x, y, z)\n",
    "            permutation_list = coordinate_permutations((x, y, z))\n",
    "          #  zperms = zC.par_interlace(permutation_list, dims=3, bits_per_dim=bits_per_dim)\n",
    "            permutation_list = [(x,y,z), (x,z,y), (y,x,z), (y,z,x), (z,x,y), (z,y,x)]\n",
    "            codes[x, y, z, 0] = zC.interlace(x, y, z, dims=3, bits_per_dim=bits_per_dim)\n",
    "         #   codes[x, y, z, 1] = zC.interlace(x, z, y, dims=3, bits_per_dim=bits_per_dim)\n",
    "            print(type(x), type(y), type(z), type(permutation_list[0][0]))\n",
    "            codes[x, y, z, :] = zC.par_interlace(permutation_list, dims=3, bits_per_dim=bits_per_dim)\n",
    "            print(codes[x, y, z, :])\n",
    "          #  print(codes[x, y, z, 0], codes[x, y, z, 1])\n",
    "\n",
    "#print(codes)\n",
    "# Flatten both arrays and sort by Morton code\n",
    "flat_arr = arr.ravel()\n",
    "flat_codes = [codes[..., i].ravel() for i in range(Npermutations)]\n",
    "orders = [np.argsort(flat_codes[i]) for i in range(Npermutations)]\n",
    "zorders = [flat_arr[orders[i]] for i in range(Npermutations)]\n",
    "#order = np.argsort(flat_codes)\n",
    "#order1 = np.argsort(codes1.ravel())\n",
    "#z_ordered = flat_arr[order]\n",
    "#print(order), print(flat_arr[order1 ]), print(np.max(order)), print(\"O\", len(order), np.unique(order).shape)\n",
    "orders"
   ]
  },
  {
   "cell_type": "code",
   "execution_count": 241,
   "id": "89f51ffe",
   "metadata": {},
   "outputs": [
    {
     "name": "stdout",
     "output_type": "stream",
     "text": [
      "4\n"
     ]
    }
   ],
   "source": [
    "import numpy as np\n",
    "import itertools\n",
    "import zCurve as zC  # your Morton/Z-order library\n",
    "\n",
    "def all_permutation_codes_listmode(Nx, Ny, Nz, bits_per_dim, dtype=np.uint64):\n",
    "    \"\"\"\n",
    "    Compute Morton codes for every (x, y, z) voxel for all 3! coordinate permutations.\n",
    "    Uses zC.par_interlace(), which expects a list of tuples.\n",
    "    \"\"\"\n",
    "    D = 3\n",
    "    perms = list(itertools.permutations(range(D)))\n",
    "    Nperm = len(perms)\n",
    "\n",
    "    # Make coordinate grid (Nx, Ny, Nz, 3)\n",
    "    x, y, z = np.meshgrid(\n",
    "        np.arange(Nx, dtype=dtype),\n",
    "        np.arange(Ny, dtype=dtype),\n",
    "        np.arange(Nz, dtype=dtype),\n",
    "        indexing=\"ij\"\n",
    "    )\n",
    "    coords = np.stack((x, y, z), axis=-1).reshape(-1, D)  # (Npoints, 3)\n",
    "\n",
    "    # Convert to list of tuples once\n",
    "    coord_list = [tuple(c) for c in coords]  # e.g. [(0,0,0), (0,0,1), ...]\n",
    "\n",
    "    # Preallocate output\n",
    "    codes_flat = np.empty((len(coord_list), Nperm), dtype=dtype)\n",
    "\n",
    "    # Process all 6 permutations — each with one call to par_interlace\n",
    "    for i, p in enumerate(perms):\n",
    "        # reorder coordinates according to permutation\n",
    "        permuted_list = [(int(c[p[0]]), int(c[p[1]]), int(c[p[2]])) for c in coord_list]\n",
    "\n",
    "        zvals=zC.par_interlace(permuted_list, dims=3, bits_per_dim=bits_per_dim)\n",
    "        codes_flat[:, i] = zC.par_interlace(permuted_list, dims=3, bits_per_dim=bits_per_dim)\n",
    "\n",
    "    orders = [np.argsort(codes_flat[:, i]).astype(dtype) for i in range(Nperm)]\n",
    "    return orders\n",
    "\n",
    "Nx, Ny, Nz = 3,4,4\n",
    "bits_per_dim = max(Nx, Ny, Nz).bit_length()+1\n",
    "print(bits_per_dim)\n",
    "codes = all_permutation_codes_listmode(Nx, Ny, Nz, bits_per_dim=bits_per_dim**3, dtype=np.uint8)\n"
   ]
  },
  {
   "cell_type": "code",
   "execution_count": 242,
   "id": "f8012060",
   "metadata": {},
   "outputs": [
    {
     "data": {
      "text/plain": [
       "[array([ 0, 16,  4, 20,  1, 17,  5, 21, 32, 36, 33, 37,  8, 24, 12, 28,  9,\n",
       "        25, 13, 29, 40, 44, 41, 45,  2, 18,  6, 22,  3, 19,  7, 23, 34, 38,\n",
       "        35, 39, 10, 26, 14, 30, 11, 27, 15, 31, 42, 46, 43, 47],\n",
       "       dtype=uint8),\n",
       " array([ 0, 16,  1, 17,  4, 20,  5, 21, 32, 33, 36, 37,  2, 18,  3, 19,  6,\n",
       "        22,  7, 23, 34, 35, 38, 39,  8, 24,  9, 25, 12, 28, 13, 29, 40, 41,\n",
       "        44, 45, 10, 26, 11, 27, 14, 30, 15, 31, 42, 43, 46, 47],\n",
       "       dtype=uint8),\n",
       " array([ 0,  4, 16, 20,  1,  5, 17, 21,  8, 12, 24, 28,  9, 13, 25, 29, 32,\n",
       "        36, 33, 37, 40, 44, 41, 45,  2,  6, 18, 22,  3,  7, 19, 23, 10, 14,\n",
       "        26, 30, 11, 15, 27, 31, 34, 38, 35, 39, 42, 46, 43, 47],\n",
       "       dtype=uint8),\n",
       " array([ 0,  4,  1,  5, 16, 20, 17, 21,  8, 12,  9, 13, 24, 28, 25, 29,  2,\n",
       "         6,  3,  7, 18, 22, 19, 23, 10, 14, 11, 15, 26, 30, 27, 31, 32, 36,\n",
       "        33, 37, 40, 44, 41, 45, 34, 38, 35, 39, 42, 46, 43, 47],\n",
       "       dtype=uint8),\n",
       " array([ 0,  1, 16, 17,  4,  5, 20, 21,  2,  3, 18, 19,  6,  7, 22, 23, 32,\n",
       "        33, 36, 37, 34, 35, 38, 39,  8,  9, 24, 25, 12, 13, 28, 29, 10, 11,\n",
       "        26, 27, 14, 15, 30, 31, 40, 41, 44, 45, 42, 43, 46, 47],\n",
       "       dtype=uint8),\n",
       " array([ 0,  1,  4,  5, 16, 17, 20, 21,  2,  3,  6,  7, 18, 19, 22, 23,  8,\n",
       "         9, 12, 13, 24, 25, 28, 29, 10, 11, 14, 15, 26, 27, 30, 31, 32, 33,\n",
       "        36, 37, 34, 35, 38, 39, 40, 41, 44, 45, 42, 43, 46, 47],\n",
       "       dtype=uint8)]"
      ]
     },
     "execution_count": 242,
     "metadata": {},
     "output_type": "execute_result"
    }
   ],
   "source": [
    "codes"
   ]
  }
 ],
 "metadata": {
  "kernelspec": {
   "display_name": "sf",
   "language": "python",
   "name": "python3"
  },
  "language_info": {
   "codemirror_mode": {
    "name": "ipython",
    "version": 3
   },
   "file_extension": ".py",
   "mimetype": "text/x-python",
   "name": "python",
   "nbconvert_exporter": "python",
   "pygments_lexer": "ipython3",
   "version": "3.9.13"
  }
 },
 "nbformat": 4,
 "nbformat_minor": 5
}
