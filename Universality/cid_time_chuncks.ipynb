{
 "cells": [
  {
   "cell_type": "code",
   "execution_count": 1,
   "id": "70d5cb99",
   "metadata": {},
   "outputs": [],
   "source": [
    "#!/usr/bin/env python\n",
    "import sys\n",
    "import os\n",
    "import pickle as pkl\n",
    "import warnings\n",
    "import time\n",
    "import pickle\n",
    "\n",
    "from functools import wraps, partial\n",
    "from pathlib import Path\n",
    "from multiprocessing import cpu_count\n",
    "from multiprocessing.pool import Pool as Pool\n",
    "\n",
    "import numpy as np\n",
    "import matplotlib.pyplot as plt\n",
    "\n",
    "sys.path.append('ComputableInformationDensity_dev')\n",
    "from ComputableInformationDensity_dev.cid import interlaced_time, cid2d\n",
    "from ComputableInformationDensity_dev.computable_information_density import cid\n",
    "from ComputableInformationDensity_dev.hilbert_curve import hilbert_curve, itter_hscan\n",
    "\n",
    "from utils import timeit, get_allowed_time_intervals, block_flatten\n",
    "\n",
    "# Get absolute path to this notebook\n",
    "notebook_path = Path().resolve()\n",
    "parent_dir = notebook_path.parent\n",
    "sys.path.append(str(parent_dir))\n",
    "from NematicAnalysis.utils import gen_clustering_metadata, get_defect_arr_from_frame, calc_weighted_mean"
   ]
  },
  {
   "cell_type": "code",
   "execution_count": 4,
   "id": "bbbd8951",
   "metadata": {},
   "outputs": [],
   "source": [
    "# possibly extent to more activities\n",
    "\n",
    "LX = 256\n",
    "base_path = f'C:\\\\Users\\\\Simon Andersen\\\\Documents\\\\Uni\\\\Speciale\\\\Hyperuniformity\\\\na{LX}'\n",
    "d_cluster = dict(path = base_path + '_cl', \\\n",
    "              suffix = \"l_cl\", priority = 1, LX = LX, Nframes = 400)\n",
    "d_cluster_l = dict(path = base_path + 'l_cl', \\\n",
    "              suffix = \"l_cl\", priority = 1, LX = LX, Nframes = 400)\n",
    "d_cluster_vl = dict(path = base_path + 'vl_cl', \\\n",
    "              suffix = \"vl_cl\", priority = 1, LX = LX, Nframes = 1500)\n",
    "d_list = [d_cluster_l, d_cluster_vl]\n",
    "\n",
    "\n",
    "## Choose which dataset to visualize\n",
    "act = 0.028 #22\n",
    "exp = 0\n",
    "\n",
    "folder_path = os.path.join(base_path, f'analysis_zeta_{act}',  f'zeta_{act}_counter_{num_exp}')\n",
    "defect_path = os.path.join(folder_path, 'defect_positions.pkl')\n",
    "\n",
    "with open(defect_path, 'rb') as f:\n",
    "    top_defects = pkl.load(f)\n"
   ]
  },
  {
   "cell_type": "code",
   "execution_count": 12,
   "id": "d9c7f222",
   "metadata": {},
   "outputs": [
    {
     "data": {
      "text/plain": [
       "[{'time_interval': 4, 'nbits': 6},\n",
       " {'time_interval': 32, 'nbits': 7},\n",
       " {'time_interval': 256, 'nbits': 8}]"
      ]
     },
     "execution_count": 12,
     "metadata": {},
     "output_type": "execute_result"
    }
   ],
   "source": [
    "get_allowed_time_intervals(system_size = 256)"
   ]
  },
  {
   "cell_type": "code",
   "execution_count": 5,
   "id": "7c163ef9",
   "metadata": {},
   "outputs": [
    {
     "data": {
      "text/plain": [
       "512.0"
      ]
     },
     "execution_count": 5,
     "metadata": {},
     "output_type": "execute_result"
    }
   ],
   "source": [
    "2**(3/2*(7-1))\n"
   ]
  },
  {
   "cell_type": "code",
   "execution_count": 73,
   "id": "1b2a53f1",
   "metadata": {},
   "outputs": [
    {
     "name": "stdout",
     "output_type": "stream",
     "text": [
      "Total number of frames: 50\n",
      "Number of cubes: 8, number of frames per cube: 8\n",
      "First frame index: 131\n",
      "Overlap: 2, time subinterval: 6\n"
     ]
    }
   ],
   "source": [
    "development_mode = False\n",
    "if development_mode:\n",
    "    num_frames = 2\n",
    "LY=LX\n",
    "\n",
    "num_frames = len(top_defects)\n",
    "nframes_to_analyze = 50\n",
    "#nframes_tot = 50 # len(top_defects)\n",
    "# --------------------------------------------\n",
    "# Set params\n",
    "dtype = np.uint8\n",
    "cid_mode = 'lz77'\n",
    "verbose = True\n",
    "\n",
    "overlap = 2\n",
    "compression_factor = 4\n",
    "nbits = 5\n",
    "nshuffle = 8\n",
    "\n",
    "observation_window_bounds = [(0, int(LX / compression_factor)), (0, int(LY / compression_factor))]\n",
    "lx_window = observation_window_bounds[0][1] - observation_window_bounds[0][0]\n",
    "ly_window = observation_window_bounds[1][1] - observation_window_bounds[1][0]\n",
    "\n",
    "nframes_per_cube = get_allowed_time_intervals(system_size = lx_window, nbits_max=nbits)[-1]['time_interval']\n",
    "time_subinterval = nframes_per_cube - overlap\n",
    "ncubes = 1 + int(((nframes_to_analyze - nframes_per_cube) / time_subinterval))\n",
    "first_frame_idx = (num_frames - nframes_to_analyze) + (nframes_to_analyze - nframes_per_cube - ((ncubes - 1) * time_subinterval))\n",
    "\n",
    "param_dict = {\n",
    "    'cid_mode' : cid_mode,\n",
    "    'dtype' : dtype,\n",
    "    'nshuffle' : nshuffle,\n",
    "    'nbits' : nbits,\n",
    "    'compression_factor' : compression_factor,\n",
    "    'observation_window_bounds' : observation_window_bounds,\n",
    "    'lx_window' : lx_window,\n",
    "    'ly_window' : ly_window,\n",
    "    'nframes_to_analyze' : nframes_to_analyze,\n",
    "    'ncubes' : ncubes,\n",
    "    'nframes_per_cube' : nframes_per_cube,\n",
    "    'overlap' : overlap,\n",
    "    'time_subinterval' : time_subinterval,\n",
    "    'first_frame_idx' : first_frame_idx,     \n",
    "}\n",
    "\n",
    "\n",
    "print(f\"Total number of frames: {nframes_to_analyze}\")\n",
    "print(f\"Number of cubes: {ncubes}, number of frames per cube: {nframes_per_cube}\")\n",
    "print(f\"First frame index: {first_frame_idx}\")\n",
    "print(f'Overlap: {overlap}, time subinterval: {time_subinterval}')"
   ]
  },
  {
   "cell_type": "code",
   "execution_count": 74,
   "id": "190f2a7d",
   "metadata": {},
   "outputs": [],
   "source": [
    "# Create defect grid and compute CID\n",
    "\n",
    "defect_grid = np.zeros((num_frames - first_frame_idx, lx_window, ly_window), dtype=dtype)\n",
    "defect_count = []\n",
    "\n",
    "for i, defect in enumerate(top_defects[first_frame_idx:]):\n",
    "    def_arr = get_defect_arr_from_frame(defect) #.astype(int)\n",
    "    if def_arr is None:\n",
    "        defect_count.append(0)\n",
    "        continue\n",
    "    def_arr = def_arr.astype(dtype)\n",
    "    def_arr_xmask = (observation_window_bounds[0][0] < def_arr[:,0]) & (def_arr[:,0] < observation_window_bounds[0][1])\n",
    "    def_arr_ymask = (observation_window_bounds[1][0] < def_arr[:,1]) & (def_arr[:,1] < observation_window_bounds[1][1])\n",
    "    def_arr = def_arr[def_arr_xmask & def_arr_ymask]\n",
    "\n",
    "    defect_grid[i, def_arr[:,0], def_arr[:,1]] = 1\n",
    "    defect_count.append(defect_grid[i,:,:].sum())"
   ]
  },
  {
   "cell_type": "code",
   "execution_count": 70,
   "id": "c7369d5b",
   "metadata": {},
   "outputs": [
    {
     "data": {
      "text/plain": [
       "(6, 8, (50, 64, 64))"
      ]
     },
     "execution_count": 70,
     "metadata": {},
     "output_type": "execute_result"
    }
   ],
   "source": [
    "time_subinterval, nframes_per_cube, defect_grid.shape"
   ]
  },
  {
   "cell_type": "code",
   "execution_count": null,
   "id": "37dbba97",
   "metadata": {},
   "outputs": [],
   "source": [
    "CID = interlaced_time(nbits=nbits, nshuff=nshuffle,mode=cid_mode, verbose=True)\n",
    "\n",
    "cid_arr = np.nan * np.ones((ncubes, 2))\n",
    "cid_shuffle_arr = np.nan * np.ones((ncubes, 2))\n",
    "\n",
    "for j in range(ncubes):\n",
    "    data = defect_grid[j * time_subinterval:(j+1)*time_subinterval+overlap].ravel()\n",
    " \n",
    "    cid_av, cid_std, cid_shuff = CID(data)\n",
    "    cid_arr[j, 0] = cid_av\n",
    "    cid_arr[j, 1] = cid_std\n",
    "    cid_shuffle_arr[j, :] = cid_shuff\n"
   ]
  },
  {
   "cell_type": "code",
   "execution_count": 78,
   "id": "db6a0446",
   "metadata": {},
   "outputs": [
    {
     "data": {
      "text/plain": [
       "<matplotlib.legend.Legend at 0x1f0d66e54c0>"
      ]
     },
     "execution_count": 78,
     "metadata": {},
     "output_type": "execute_result"
    },
    {
     "data": {
      "image/png": "[encoded data removed]",
      "text/plain": [
       "<Figure size 640x480 with 1 Axes>"
      ]
     },
     "metadata": {},
     "output_type": "display_data"
    }
   ],
   "source": [
    "plt.plot(cid_arr[:,0], label='CID')\n",
    "plt.plot(cid_shuffle_arr[:,0], label='CID shuffled')\n",
    "plt.legend()"
   ]
  },
  {
   "cell_type": "code",
   "execution_count": 67,
   "id": "72b8afc8",
   "metadata": {},
   "outputs": [
    {
     "data": {
      "text/plain": [
       "[<matplotlib.lines.Line2D at 0x1f0d48b78b0>]"
      ]
     },
     "execution_count": 67,
     "metadata": {},
     "output_type": "execute_result"
    },
    {
     "data": {
      "image/png": "[encoded data removed]",
      "text/plain": [
       "<Figure size 640x480 with 1 Axes>"
      ]
     },
     "metadata": {},
     "output_type": "display_data"
    }
   ],
   "source": [
    "plt.plot(cid_arr[:,0], label='CID')\n",
    "plt.plot(cid_shuffle_arr[:,0], label='CID shuffled')"
   ]
  },
  {
   "cell_type": "code",
   "execution_count": null,
   "id": "08ff5427",
   "metadata": {},
   "outputs": [],
   "source": [
    "development_mode = False\n",
    "if development_mode:\n",
    "    num_frames = 2\n",
    "LY=LX\n",
    "\n",
    "nframes_tot = len(top_defects)\n",
    "# --------------------------------------------\n",
    "# Set params\n",
    "dtype = np.uint8\n",
    "cid_mode = 'lz77'\n",
    "verbose = True\n",
    "\n",
    "overlap = 0\n",
    "compression_factor = 2\n",
    "nbits = 5\n",
    "nshuffle = 4\n",
    "\n",
    "observation_window_bounds = [(0, int(LX / compression_factor)), (0, int(LY / compression_factor))]\n",
    "lx_window = observation_window_bounds[0][1] - observation_window_bounds[0][0]\n",
    "ly_window = observation_window_bounds[1][1] - observation_window_bounds[1][0]\n",
    "\n",
    "nframes_per_cube = get_allowed_time_intervals(system_size = lx_window, nbits_max=12)[-1]['time_interval']\n",
    "\n",
    "\n",
    "\n",
    "nbits_frame = int(np.log2(lx_window))\n",
    "\n",
    "if not lx_window == ly_window:\n",
    "    raise ValueError(\"Observation window must be square.\")\n",
    "\n",
    "allowed_intervals_list = get_allowed_time_intervals(system_size = lx_window, nbits_max=12)\n",
    "\n",
    "# check that nframes is in allowed intervals\n",
    "if nframes not in [ai['time_interval'] for ai in allowed_intervals_list]:\n",
    "    raise ValueError(f\"nframes {nframes} is not in allowed intervals {allowed_intervals_list}\")\n",
    "else:\n",
    "    # get nbits for nframes\n",
    "    nbits = [ai['nbits'] for ai in allowed_intervals_list if ai['time_interval'] == nframes][0]\n",
    "\n",
    "param_dict = {\n",
    "    'compression_factor' : compression_factor,\n",
    "    'nshuffle' : nshuffle,\n",
    "    'nframes' : nframes,\n",
    "    'observation_window_bounds' : observation_window_bounds,\n",
    "    'lx_window' : lx_window,\n",
    "    'ly_window' : ly_window,\n",
    "    'nbits_frame' : nbits_frame,\n",
    "    'nbits' : nbits,\n",
    "    'cid_mode' : cid_mode,\n",
    "}\n",
    "\n",
    "with open(os.path.join(output_path, f'cid_params_{cid_mode}.pkl'), 'wb') as f:\n",
    "    pickle.dump(param_dict, f)\n",
    "\n",
    "if verbose: print(f\"Using nbits = {nbits} (size {1 << nbits}), nframes = {nframes}, nshuffle = {nshuffle}, window size {lx_window}x{ly_window}\")\n",
    "\n",
    "# --------------------------------------------\n",
    "# Create defect grid and compute CID\n",
    "\n",
    "defect_grid = np.zeros((nframes, lx_window, ly_window), dtype=dtype)\n",
    "defect_count = []\n",
    "\n",
    "for i, defect in enumerate(top_defects[-nframes:]):\n",
    "    def_arr = get_defect_arr_from_frame(defect) #.astype(int)\n",
    "    if def_arr is None:\n",
    "        defect_count.append(0)\n",
    "        continue\n",
    "    def_arr = def_arr.astype(dtype)\n",
    "    def_arr_xmask = (observation_window_bounds[0][0] < def_arr[:,0]) & (def_arr[:,0] < observation_window_bounds[0][1])\n",
    "    def_arr_ymask = (observation_window_bounds[1][0] < def_arr[:,1]) & (def_arr[:,1] < observation_window_bounds[1][1])\n",
    "    def_arr = def_arr[def_arr_xmask & def_arr_ymask]\n",
    "\n",
    "    defect_grid[i, def_arr[:,0], def_arr[:,1]] = 1\n",
    "    defect_count.append(defect_grid[i,:,:].sum())\n",
    "\n",
    "if verbose: print(f\"av defect counts in frames used for CID: {np.mean(defect_count):.2f}\")  \n",
    "\n",
    "t3 = time.perf_counter()\n",
    "CID = interlaced_time(nbits=nbits, nshuff=nshuffle,mode=cid_mode, verbose=verbose)\n",
    "cid_av, cid_std, cid_shuff = CID(defect_grid)\n",
    "\n",
    "if verbose: print(f\"For act,exp {act,exp}: CID/CID_shuff: {(cid_av/cid_shuff[0]):.4f} Time: \", np.round(time.perf_counter()-t3,2), \"s\")\n",
    "\n",
    "res_cid = {\n",
    "    'zeta' : ar.zeta,\n",
    "    'density' : defect_count,\n",
    "    'cid' : (cid_av,cid_std),\n",
    "    'cid_shuffle' : cid_shuff,\n",
    "    'lambda' : 1. - cid_av/cid_shuff[0]\n",
    "}\n",
    "\n",
    "#with open(os.path.join(output_path, f'cid_{cid_mode}.pkl'), 'wb') as f:\n",
    "#    pickle.dump(res_cid, f)\n",
    "\n",
    "#gen_status_txt(msg, os.path.join(output_path, 'cid_analysis_completed.txt'))"
   ]
  }
 ],
 "metadata": {
  "kernelspec": {
   "display_name": "sf",
   "language": "python",
   "name": "python3"
  },
  "language_info": {
   "codemirror_mode": {
    "name": "ipython",
    "version": 3
   },
   "file_extension": ".py",
   "mimetype": "text/x-python",
   "name": "python",
   "nbconvert_exporter": "python",
   "pygments_lexer": "ipython3",
   "version": "3.9.13"
  }
 },
 "nbformat": 4,
 "nbformat_minor": 5
}
