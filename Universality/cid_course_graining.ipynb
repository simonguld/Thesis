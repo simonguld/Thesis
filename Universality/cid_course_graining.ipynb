{
 "cells": [
  {
   "cell_type": "code",
   "execution_count": 2,
   "id": "4bcd69b6",
   "metadata": {},
   "outputs": [],
   "source": [
    "#!/usr/bin/env python\n",
    "import sys\n",
    "import os\n",
    "import pickle as pkl\n",
    "import warnings\n",
    "import time\n",
    "\n",
    "from functools import wraps, partial\n",
    "from pathlib import Path\n",
    "from multiprocessing import cpu_count\n",
    "from multiprocessing.pool import Pool as Pool\n",
    "\n",
    "# prevent BLAS/LAPACK from using multiple threads per process\n",
    "#os.environ[\"OMP_NUM_THREADS\"] = \"1\"\n",
    "#os.environ[\"OPENBLAS_NUM_THREADS\"] = \"1\"\n",
    "#os.environ[\"MKL_NUM_THREADS\"] = \"1\"\n",
    "#os.environ[\"NUMEXPR_NUM_THREADS\"] = \"1\"\n",
    "\n",
    "import numpy as np\n",
    "import matplotlib.pyplot as plt\n",
    "\n",
    "sys.path.append('ComputableInformationDensity_dev')\n",
    "from ComputableInformationDensity_dev.cid import interlaced_time, cid2d\n",
    "from ComputableInformationDensity_dev.computable_information_density import cid, cid_shuffle\n",
    "from ComputableInformationDensity_dev.hilbert_curve import hilbert_curve, itter_hscan\n",
    "\n",
    "from utils import timeit, get_allowed_time_intervals, block_flatten\n",
    "\n",
    "# Get absolute path to this notebook\n",
    "notebook_path = Path().resolve()\n",
    "parent_dir = notebook_path.parent\n",
    "sys.path.append(str(parent_dir))\n",
    "from NematicAnalysis.utils import gen_clustering_metadata, get_defect_arr_from_frame, calc_weighted_mean"
   ]
  },
  {
   "cell_type": "code",
   "execution_count": 3,
   "id": "90abf80a",
   "metadata": {},
   "outputs": [],
   "source": [
    "# possibly extent to more activities\n",
    "\n",
    "LX = 256\n",
    "base_path = f'C:\\\\Users\\\\Simon Andersen\\\\Documents\\\\Uni\\\\Speciale\\\\Hyperuniformity\\\\na{LX}'\n",
    "d_cluster = dict(path = base_path + '_cl', \\\n",
    "              suffix = \"l_cl\", priority = 1, LX = LX, Nframes = 400)\n",
    "d_cluster_l = dict(path = base_path + 'l_cl', \\\n",
    "              suffix = \"l_cl\", priority = 1, LX = LX, Nframes = 400)\n",
    "d_cluster_vl = dict(path = base_path + 'vl_cl', \\\n",
    "              suffix = \"vl_cl\", priority = 1, LX = LX, Nframes = 1500)\n",
    "d_list = [d_cluster_l, d_cluster_vl]\n",
    "\n",
    "\n",
    "## Choose which dataset to visualize\n",
    "act = 0.025 #22 \n",
    "num_exp = 0\n",
    "\n",
    "folder_path = os.path.join(base_path, f'analysis_zeta_{act}',  f'zeta_{act}_counter_{num_exp}')\n",
    "defect_path = os.path.join(folder_path, 'defect_positions.pkl')\n",
    "\n",
    "with open(defect_path, 'rb') as f:\n",
    "    top_defects = pkl.load(f)\n"
   ]
  },
  {
   "cell_type": "markdown",
   "id": "467ec098",
   "metadata": {},
   "source": [
    "#### Coarse-graining of several windows"
   ]
  },
  {
   "cell_type": "code",
   "execution_count": 141,
   "id": "9b48e7e3",
   "metadata": {},
   "outputs": [
    {
     "name": "stdout",
     "output_type": "stream",
     "text": [
      "nboxes per frame = 4\n",
      "Using window size 128x128.\n",
      "nf_cube,lx_cg,ly_cg= 16x16x16\n",
      "Hypercube shape: 16x16x16\n",
      "ncubes: 9\n",
      "[104, 102, 106, 106, 110, 106, 108, 108, 110, 105, 104, 108, 112, 118, 116, 118, 112, 114, 108, 112, 106, 108, 110, 112, 112, 112, 120, 120, 120, 122, 122, 128, 128, 126, 127, 124, 122, 120, 124, 123, 122, 128, 124, 124, 126, 123, 116, 119, 115, 112, 110, 112, 116, 133, 124, 132, 121, 119, 122, 124, 121, 119, 120, 124, 122, 120, 122, 120, 114, 114, 114, 114, 111, 108, 112, 108, 112, 110, 113, 116, 118, 122, 122, 120, 122, 122, 116, 120, 127, 129, 120, 125, 120, 112, 108, 108, 112, 114, 112, 116, 118, 118, 120, 122, 122, 120, 123, 127, 124, 126, 128, 125, 124, 121, 121, 118, 118, 120, 120, 122, 124, 126, 122, 122, 126, 127, 127, 124, 130, 134, 132, 126, 128, 130, 134, 134, 132, 138, 142, 140, 142, 134, 137, 140]\n",
      "Average number of defects in window before/after coarse graining: 119.88, 114.84\n"
     ]
    }
   ],
   "source": [
    "## we will:\n",
    "# assume square partion starting from bounds of system\n",
    "\n",
    "\n",
    "dtype = np.uint8\n",
    "cid_mode = 'lz77'\n",
    "verbose = True\n",
    "\n",
    "compression_factor = 2\n",
    "coarse_graining_box_length = 8\n",
    "overlap = 0\n",
    "nshuffle = 1\n",
    "nbits = 4\n",
    "\n",
    "njumps_between_frames = 1\n",
    "top_defects = top_defects[::njumps_between_frames]\n",
    "\n",
    "num_frames = len(top_defects)\n",
    "nframes_to_analyze = min(150, num_frames)\n",
    "npartitions = compression_factor**2\n",
    "\n",
    "LX_cg = LX // coarse_graining_box_length\n",
    "lx_window = LX // compression_factor\n",
    "lx_window_cg = lx_window // coarse_graining_box_length\n",
    "\n",
    "nbits_frame = int(np.log2(lx_window_cg))\n",
    "nframes_per_cube = get_allowed_time_intervals(system_size = lx_window_cg, nbits_max=nbits)[-1]['time_interval']\n",
    "time_subinterval = nframes_per_cube - overlap\n",
    "ncubes = 1 + int(((nframes_to_analyze - nframes_per_cube) / time_subinterval))\n",
    "first_frame_idx = (num_frames - nframes_to_analyze) + (nframes_to_analyze - nframes_per_cube - ((ncubes - 1) * time_subinterval))\n",
    "\n",
    "\n",
    "defect_grid = np.zeros((num_frames - first_frame_idx, LX_cg, LX_cg), dtype=dtype)\n",
    "defect_count_full = []\n",
    "defect_count = []\n",
    "\n",
    "print(f'nboxes per frame = {compression_factor**2}')\n",
    "print(f\"Using window size {lx_window}x{lx_window}.\")\n",
    "print(f\"nf_cube,lx_cg,ly_cg= {nframes_per_cube}x{lx_window_cg}x{lx_window_cg}\")\n",
    "print(f\"Hypercube shape: {1 << nbits}x{1 << nbits}x{1 << nbits}\")\n",
    "print(f\"ncubes: {ncubes}\")\n",
    "\n",
    "for i, defect in enumerate(top_defects[first_frame_idx:]):\n",
    "    def_arr = get_defect_arr_from_frame(defect).astype(int)\n",
    "\n",
    "    #def_arr_xmask = (observation_window_bounds[0][0] < def_arr[:,0]) & (def_arr[:,0] < observation_window_bounds[0][1])\n",
    "    #def_arr_ymask = (observation_window_bounds[0][0] < def_arr[:,1]) & (def_arr[:,1] < observation_window_bounds[0][1])\n",
    "    #def_arr = def_arr[def_arr_xmask & def_arr_ymask]\n",
    "\n",
    "    defect_count_full.append(len(def_arr))\n",
    "\n",
    "    # Coarse-grain: map positions to coarse grid indices\n",
    "    coarse_x = (def_arr[:, 0] // coarse_graining_box_length).astype(int)\n",
    "    coarse_y = (def_arr[:, 1] // coarse_graining_box_length).astype(int)\n",
    "\n",
    "    # Set coarse cells to 1 if any defect is inside\n",
    "    defect_grid[i, coarse_x, coarse_y] = 1\n",
    "    defect_count.append(defect_grid[i,:,:].sum())\n",
    "\n",
    "print(defect_count_full)\n",
    "print(f\"Average number of defects in window before/after coarse graining: {np.mean(defect_count_full):.2f}, {np.mean(defect_count):.2f}\")\n",
    "#print(\"defects lost in coarse graining per frame: \", np.mean(np.array(defect_count_full) - np.array(defect_count)))"
   ]
  },
  {
   "cell_type": "code",
   "execution_count": null,
   "id": "37dae82a",
   "metadata": {},
   "outputs": [],
   "source": [
    "### 3D CID\n",
    "\n",
    "t3 = time.perf_counter()\n",
    "CID = interlaced_time(nbits=nbits, nshuff=nshuffle,mode=cid_mode, verbose=False)\n",
    "cid_arr = np.nan * np.ones((ncubes, npartitions, 2))\n",
    "cid_shuffle_arr = np.nan * np.ones_like(cid_arr)\n",
    "cid_frac_arr = np.nan * np.ones_like(cid_arr)\n",
    "\n",
    "for j in range(ncubes):\n",
    "    print(f\"Calculating CID for cube {j+1}/{ncubes}...\", end=' ')\n",
    "    for i in range(npartitions):\n",
    "        x_start = (i % compression_factor) * lx_window_cg\n",
    "        y_start = (i // compression_factor) * lx_window_cg\n",
    "        data = defect_grid[j * time_subinterval:(j+1)*time_subinterval+overlap, x_start:x_start+lx_window_cg, y_start:y_start+lx_window_cg]\n",
    "        #print(f\"  partition {i+1}/{npartitions}, data sum = {data.sum()}\")\n",
    "        print(f'box bounds: [{x_start},{x_start+lx_window_cg}] x [{y_start},{y_start+lx_window_cg}]')\n",
    "        cid_av, cid_std, cid_shuff = CID(data)\n",
    "        cid_arr[j, i, 0] = cid_av\n",
    "        cid_arr[j, i, 1] = cid_std\n",
    "        cid_shuffle_arr[j, i, :] = cid_shuff\n",
    "\n",
    "\n",
    "cid_frac_arr[:, :, 0] = cid_arr[:, :, 0] / cid_shuffle_arr[:, :, 0]\n",
    "cid_frac_arr[:, :, 1] = cid_frac_arr[:, :, 0] * np.sqrt( (cid_arr[:, :, 1]/cid_arr[:, :, 0])**2 + (cid_shuffle_arr[:, :, 1]/cid_shuffle_arr[:, :, 0])**2 )\n"
   ]
  },
  {
   "cell_type": "code",
   "execution_count": 148,
   "id": "34efdba6",
   "metadata": {},
   "outputs": [
    {
     "data": {
      "text/plain": [
       "<matplotlib.legend.Legend at 0x1f3c5a03190>"
      ]
     },
     "execution_count": 148,
     "metadata": {},
     "output_type": "execute_result"
    },
    {
     "data": {
      "image/png": "[encoded data removed]",
      "text/plain": [
       "<Figure size 640x480 with 1 Axes>"
      ]
     },
     "metadata": {},
     "output_type": "display_data"
    }
   ],
   "source": [
    "for i in range(npartitions):\n",
    "    plt.plot(range(ncubes), cid_frac_arr[:, i, 0], marker='o', label=f'Partition {i+1}')\n",
    "\n",
    "av_w, std_w = calc_weighted_mean(cid_frac_arr[:, :, 0].flatten(), cid_frac_arr[:, :, 1].flatten(), )\n",
    "av_wt, std_wt = calc_weighted_mean(cid_frac_arr[:, :, 0], cid_frac_arr[:, :, 1],axis=-1 )\n",
    "plt.hlines(av_w, 0, ncubes-1, colors='k', linestyles='dashed', label='Mean over all partitions and cubes')\n",
    "plt.errorbar(range(ncubes), av_wt, yerr=std_wt, fmt='o', color='k', label='Mean over all partitions')\n",
    "#plt.plot(range(ncubes), calc_weighted_mean(cid_frac_arr[:, :, 0], cid_frac_arr[:, :, 1]), marker='o', color='k', label='Mean over partitions')\n",
    "plt.legend()"
   ]
  },
  {
   "cell_type": "markdown",
   "id": "e604be18",
   "metadata": {},
   "source": [
    "#### Coarse-graining of 1 window"
   ]
  },
  {
   "cell_type": "code",
   "execution_count": 5,
   "id": "e0482b1f",
   "metadata": {},
   "outputs": [
    {
     "name": "stdout",
     "output_type": "stream",
     "text": [
      "Using window size 128x128.\n",
      "nf_cube,lx_cg,ly_cg= 32x32x32\n",
      "Hypercube shape: 32x32x32\n",
      "ncubes: 4\n",
      "Average number of defects in window before/after coarse graining: 30.22, 29.91\n"
     ]
    }
   ],
   "source": [
    "dtype = np.uint8\n",
    "cid_mode = 'lz77'\n",
    "verbose = True\n",
    "\n",
    "compression_factor = 2\n",
    "coarse_graining_box_length = 4\n",
    "overlap = 0\n",
    "nshuffle = 8\n",
    "nbits = 5\n",
    "\n",
    "njumps_between_frames = 1\n",
    "top_defects = top_defects[::njumps_between_frames]\n",
    "\n",
    "num_frames = len(top_defects)\n",
    "nframes_to_analyze = min(150, num_frames)\n",
    "\n",
    "observation_window_bounds = [(0, int(LX / compression_factor)), (0, int(LX / compression_factor))]\n",
    "lx_window = observation_window_bounds[0][1] - observation_window_bounds[0][0]\n",
    "ly_window = observation_window_bounds[1][1] - observation_window_bounds[1][0]\n",
    "lx_window_cg = lx_window // coarse_graining_box_length\n",
    "ly_window_cg = ly_window // coarse_graining_box_length\n",
    "\n",
    "nbits_frame = int(np.log2(lx_window_cg))\n",
    "nframes_per_cube = get_allowed_time_intervals(system_size = lx_window_cg, nbits_max=nbits)[-1]['time_interval']\n",
    "time_subinterval = nframes_per_cube - overlap\n",
    "ncubes = 1 + int(((nframes_to_analyze - nframes_per_cube) / time_subinterval))\n",
    "first_frame_idx = (num_frames - nframes_to_analyze) + (nframes_to_analyze - nframes_per_cube - ((ncubes - 1) * time_subinterval))\n",
    "\n",
    "\n",
    "defect_grid = np.zeros((num_frames - first_frame_idx, lx_window_cg, ly_window_cg), dtype=dtype)\n",
    "defect_count_full = []\n",
    "defect_count = []\n",
    "\n",
    "print(f\"Using window size {lx_window}x{ly_window}.\")\n",
    "print(f\"nf_cube,lx_cg,ly_cg= {nframes_per_cube}x{lx_window_cg}x{ly_window_cg}\")\n",
    "print(f\"Hypercube shape: {1 << nbits}x{1 << nbits}x{1 << nbits}\")\n",
    "print(f\"ncubes: {ncubes}\")\n",
    "\n",
    "for i, defect in enumerate(top_defects[first_frame_idx:]):\n",
    "    def_arr = get_defect_arr_from_frame(defect).astype(int)\n",
    "\n",
    "    def_arr_xmask = (observation_window_bounds[0][0] < def_arr[:,0]) & (def_arr[:,0] < observation_window_bounds[0][1])\n",
    "    def_arr_ymask = (observation_window_bounds[0][0] < def_arr[:,1]) & (def_arr[:,1] < observation_window_bounds[0][1])\n",
    "    def_arr = def_arr[def_arr_xmask & def_arr_ymask]\n",
    "\n",
    "    defect_count_full.append(len(def_arr))\n",
    "\n",
    "    local_x = def_arr[:, 0] - observation_window_bounds[0][0]\n",
    "    local_y = def_arr[:, 1] - observation_window_bounds[1][0]\n",
    "\n",
    "    # Coarse-grain: map positions to coarse grid indices\n",
    "    coarse_x = (local_x // coarse_graining_box_length).astype(int)\n",
    "    coarse_y = (local_y // coarse_graining_box_length).astype(int)\n",
    "\n",
    "    # Set coarse cells to 1 if any defect is inside\n",
    "    defect_grid[i, coarse_x, coarse_y] = 1\n",
    "    defect_count.append(defect_grid[i,:,:].sum())\n",
    "\n",
    "print(f\"Average number of defects in window before/after coarse graining: {np.mean(defect_count_full):.2f}, {np.mean(defect_count):.2f}\")\n",
    "#print(\"defects lost in coarse graining per frame: \", np.mean(np.array(defect_count_full) - np.array(defect_count)))"
   ]
  },
  {
   "cell_type": "code",
   "execution_count": 54,
   "id": "181c2070",
   "metadata": {},
   "outputs": [
    {
     "name": "stdout",
     "output_type": "stream",
     "text": [
      "Calculating CID for frame 1/10... Calculating CID for frame 2/10... Calculating CID for frame 3/10... Calculating CID for frame 4/10... Calculating CID for frame 5/10... Calculating CID for frame 6/10... Calculating CID for frame 7/10... Calculating CID for frame 8/10... Calculating CID for frame 9/10... Calculating CID for frame 10/10... CID class:  [1.25178597 1.25174561 1.23565864 1.21807942 1.24301173 0.30784996\n",
      " 0.31300893 0.34228581 0.32510003 0.34239395]\n",
      "CID class shuffle:  [1.40269044 1.41276838 1.41277481 1.39260303 1.41420832 0.31650641\n",
      " 0.32176324 0.33896763 0.33724264 0.33900669]\n",
      "cid class mean: 0.783 +/- 0.457\n",
      "cid class shuffle mean: 0.869 +/- 0.538\n",
      "cid par mean: 0.783 +/- 0.457\n",
      "cid par shuffle mean: 0.864 +/- 0.536\n",
      "Done. Total time: 25.02 s\n"
     ]
    }
   ],
   "source": [
    "### 2D CID calculation\n",
    "\n",
    "use_class = True\n",
    "use_par = True\n",
    "verbose=False\n",
    "CID2d = cid2d(nbits=nbits_frame, nshuff=nshuffle,mode=cid_mode, verbose=verbose)\n",
    "nframes_seq = 10\n",
    "cid_seq = np.nan*np.ones((nframes_seq, 4))\n",
    "cid_seq_shuffle = np.nan*np.ones_like(cid_seq)\n",
    "cid_seq_frac = np.nan*np.ones_like(cid_seq)\n",
    "cid_uno = []\n",
    "\n",
    "t0 = time.perf_counter()\n",
    "for j in range(nframes_seq):\n",
    "    print(f\"Calculating CID for frame {j+1}/{nframes_seq}...\", end=' ')\n",
    "    ff_idx = j\n",
    "    data = defect_grid[ff_idx,:,:]\n",
    "    #data = np.ones_like(data)\n",
    "    #data[:,::2] = 1\n",
    "    #data[::2,:] = np.random.randint(0,2,size=data[::2,:].shape)\n",
    "    \n",
    "    cid_uno.append(cid(data.ravel()))\n",
    "    if use_class:\n",
    "        cid_av, cid_std, cid_shuff = CID2d(data)\n",
    "        cid_seq[j, 0] = cid_av\n",
    "        cid_seq[j, 1] = cid_std\n",
    "        cid_seq_shuffle[j, :2] = cid_shuff\n",
    "    if use_par:\n",
    "        t1 = time.perf_counter()\n",
    "        cid_temp = []\n",
    "        for order in itter_hscan(data, dim=2,nbits=nbits_frame):\n",
    "            cid_temp.append(cid(order))\n",
    "        #print(cid_temp)\n",
    "        if verbose: print(f\"CID took {time.perf_counter()-t1:.2f} s\")\n",
    " \n",
    "        cid_av = np.mean(cid_temp)\n",
    "        cid_std = np.std(cid_temp)\n",
    "        t2= time.perf_counter()\n",
    "        cid_shuff = cid_shuffle(data.ravel(), nshuff=8, cid_mode=cid_mode)\n",
    "        if verbose: print(f\"CID shuffle took {time.perf_counter()-t2:.2f} s\")\n",
    "\n",
    "        cid_seq[j, 2] = cid_av\n",
    "        cid_seq[j, 3] = cid_std\n",
    "        cid_seq_shuffle[j, 2:] = cid_shuff\n",
    "\n",
    "if use_class:\n",
    "    print(\"CID class: \", cid_seq[:,0])\n",
    "    print(\"CID class shuffle: \", cid_seq_shuffle[:,0])\n",
    "    cid_seq_frac[:, 0] = cid_seq[:, 0] / cid_seq_shuffle[:, 0]\n",
    "    cid_seq_frac[:, 1] = cid_seq_frac[:, 0] * np.sqrt( (cid_seq[:, 1]/cid_seq[:, 0])**2 + (cid_seq_shuffle[:, 1]/cid_seq_shuffle[:, 0])**2 )\n",
    "if use_par:\n",
    "    cid_seq_frac[:, 2] = cid_seq[:, 2] / cid_seq_shuffle[:, 2]\n",
    "    cid_seq_frac[:, 3] = cid_seq_frac[:, 2] * np.sqrt( (cid_seq[:, 3]/cid_seq[:, 2])**2 + (cid_seq_shuffle[:, 3]/cid_seq_shuffle[:, 2])**2 )\n",
    "\n",
    "    \n",
    "print(f\"cid class mean: {np.nanmean(cid_seq[:,0]):.3f} +/- {np.nanstd(cid_seq[:,0]):.3f}\")\n",
    "print(f\"cid class shuffle mean: {np.nanmean(cid_seq_shuffle[:,0]):.3f} +/- {np.nanstd(cid_seq_shuffle[:,0]):.3f}\")\n",
    "print(f\"cid par mean: {np.nanmean(cid_seq[:,2]):.3f} +/- {np.nanstd(cid_seq[:,2]):.3f}\")\n",
    "print(f\"cid par shuffle mean: {np.nanmean(cid_seq_shuffle[:,2]):.3f} +/- {np.nanstd(cid_seq_shuffle[:,2]):.3f}\")\n",
    "# \n",
    "print(f\"Done. Total time: {time.perf_counter()-t0:.2f} s\")"
   ]
  },
  {
   "cell_type": "code",
   "execution_count": null,
   "id": "2eec8623",
   "metadata": {},
   "outputs": [
    {
     "name": "stdout",
     "output_type": "stream",
     "text": [
      "Calculating CID for cube 1/37... Calculating CID for cube 2/37... Calculating CID for cube 3/37... Calculating CID for cube 4/37... Calculating CID for cube 5/37... Calculating CID for cube 6/37... Calculating CID for cube 7/37... Calculating CID for cube 8/37... Calculating CID for cube 9/37... Calculating CID for cube 10/37... Calculating CID for cube 11/37... Calculating CID for cube 12/37... Calculating CID for cube 13/37... Calculating CID for cube 14/37... Calculating CID for cube 15/37... Calculating CID for cube 16/37... Calculating CID for cube 17/37... Calculating CID for cube 18/37... Calculating CID for cube 19/37... Calculating CID for cube 20/37... Calculating CID for cube 21/37... Calculating CID for cube 22/37... Calculating CID for cube 23/37... Calculating CID for cube 24/37... Calculating CID for cube 25/37... Calculating CID for cube 26/37... Calculating CID for cube 27/37... Calculating CID for cube 28/37... Calculating CID for cube 29/37... Calculating CID for cube 30/37... Calculating CID for cube 31/37... Calculating CID for cube 32/37... Calculating CID for cube 33/37... Calculating CID for cube 34/37... Calculating CID for cube 35/37... Calculating CID for cube 36/37... Calculating CID for cube 37/37... "
     ]
    }
   ],
   "source": [
    "### 3D CID\n",
    "\n",
    "t3 = time.perf_counter()\n",
    "CID = interlaced_time(nbits=nbits, nshuff=nshuffle,mode=cid_mode, verbose=False)\n",
    "cid_arr = np.nan * np.ones((ncubes, 2))\n",
    "cid_shuffle_arr = np.nan * np.ones_like(cid_arr)\n",
    "cid_frac_arr = np.nan * np.ones_like(cid_arr)\n",
    "\n",
    "for j in range(ncubes):\n",
    "    print(f\"Calculating CID for cube {j+1}/{ncubes}...\", end=' ')\n",
    "    data = defect_grid[j * time_subinterval:(j+1)*time_subinterval+overlap]\n",
    "    cid_av, cid_std, cid_shuff = CID(data)\n",
    "    cid_arr[j, 0] = cid_av\n",
    "    cid_arr[j, 1] = cid_std\n",
    "    cid_shuffle_arr[j, :] = cid_shuff\n",
    "\n",
    "cid_frac_arr[:, 0] = cid_arr[:, 0] / cid_shuffle_arr[:, 0]\n",
    "cid_frac_arr[:, 1] = cid_frac_arr[:, 0] * np.sqrt( (cid_arr[:, 1]/cid_arr[:, 0])**2 + (cid_shuffle_arr[:, 1]/cid_shuffle_arr[:, 0])**2 )"
   ]
  },
  {
   "cell_type": "code",
   "execution_count": 14,
   "id": "5ed5560f",
   "metadata": {},
   "outputs": [
    {
     "name": "stdout",
     "output_type": "stream",
     "text": [
      "Mean CID class: 0.9681 +/- 0.043\n",
      "Mean CID flattened: 0.9858 +/- 0.036\n"
     ]
    },
    {
     "data": {
      "text/plain": [
       "<matplotlib.legend.Legend at 0x1f3c47e5340>"
      ]
     },
     "execution_count": 14,
     "metadata": {},
     "output_type": "execute_result"
    },
    {
     "data": {
      "image/png": "[encoded data removed]",
      "text/plain": [
       "<Figure size 640x480 with 1 Axes>"
      ]
     },
     "metadata": {},
     "output_type": "display_data"
    }
   ],
   "source": [
    "fig, ax = plt.subplots()\n",
    "ax.errorbar(np.arange(nframes_seq), cid_seq_frac[:,0], yerr=cid_seq_frac[:,1], fmt='o', label=f'class')\n",
    "ax.errorbar(np.arange(nframes_seq), cid_seq_frac[:,2], yerr=cid_seq_frac[:,3], fmt='s', label=f'flattened')\n",
    "ax.hlines(np.nanmean(cid_seq_frac[:,0]), 0, nframes_seq-1, colors='k', linestyles='dashed', label='mean')\n",
    "print(f\"Mean CID class: {np.nanmean(cid_seq_frac[:,0]):.4f} +/- {np.nanstd(cid_seq_frac[:,0]):.3f}\")\n",
    "print(f\"Mean CID flattened: {np.nanmean(cid_seq_frac[:,2]):.4f} +/- {np.nanstd(cid_seq_frac[:,2]):.3f}\")\n",
    "ax.set_title(f\"n={nbits}, cf={compression_factor}, box={coarse_graining_box_length}\")\n",
    "ax.legend()"
   ]
  },
  {
   "cell_type": "code",
   "execution_count": null,
   "id": "e38ef9c7",
   "metadata": {},
   "outputs": [],
   "source": [
    "fig, ax = plt.subplots()\n",
    "ax.errorbar(np.arange(ncubes), cid_frac_arr[:,0], yerr=cid_frac_arr[:,1], fmt='o', label=f'act={act}, exp={num_exp}')\n",
    "ax.hlines(np.nanmean(cid_frac_arr[:,0]), 0, ncubes-1, colors='k', linestyles='dashed', label='mean')\n",
    "print(f\"Mean CID: {np.nanmean(cid_frac_arr[:,0]):.3f} +/- {np.nanstd(cid_frac_arr[:,0]):.3f}\")\n",
    "ax.set_title(f\"n={nbits}, cf={compression_factor}, box={coarse_graining_box_length}\")"
   ]
  },
  {
   "cell_type": "code",
   "execution_count": 242,
   "id": "6aadc216",
   "metadata": {},
   "outputs": [
    {
     "name": "stdout",
     "output_type": "stream",
     "text": [
      "Mean CID: 0.947 +/- 0.011\n"
     ]
    },
    {
     "data": {
      "text/plain": [
       "Text(0.5, 1.0, 'n=5, cf=2, box=4')"
      ]
     },
     "execution_count": 242,
     "metadata": {},
     "output_type": "execute_result"
    },
    {
     "data": {
      "image/png": "[encoded data removed]",
      "text/plain": [
       "<Figure size 640x480 with 1 Axes>"
      ]
     },
     "metadata": {},
     "output_type": "display_data"
    }
   ],
   "source": [
    "fig, ax = plt.subplots()\n",
    "ax.errorbar(np.arange(ncubes), cid_frac_arr[:,0], yerr=cid_frac_arr[:,1], fmt='o', label=f'act={act}, exp={num_exp}')\n",
    "ax.hlines(np.nanmean(cid_frac_arr[:,0]), 0, ncubes-1, colors='k', linestyles='dashed', label='mean')\n",
    "print(f\"Mean CID: {np.nanmean(cid_frac_arr[:,0]):.3f} +/- {np.nanstd(cid_frac_arr[:,0]):.3f}\")\n",
    "ax.set_title(f\"n={nbits}, cf={compression_factor}, box={coarse_graining_box_length}\")"
   ]
  },
  {
   "cell_type": "markdown",
   "id": "568cfcda",
   "metadata": {},
   "source": [
    "#### Coarse-graining 1 window 1 hypercube"
   ]
  },
  {
   "cell_type": "code",
   "execution_count": null,
   "id": "a1d5dd4e",
   "metadata": {},
   "outputs": [],
   "source": [
    "## thinks:\n",
    "# dynamic coarse graining box size based on defect density?\n",
    "# allowing for dynamic nframes to get hypercube slices in time?\n",
    "\n",
    "compression_factor = 2\n",
    "coarse_graining_box_length = 4\n",
    "nframes, nx, ny = 32, d_cluster_l['LX'], d_cluster_l['LX']\n",
    "\n",
    "observation_window_bounds = [(0, int(nx / compression_factor)), (0, int(ny / compression_factor))]\n",
    "lx_window = observation_window_bounds[0][1] - observation_window_bounds[0][0]\n",
    "ly_window = observation_window_bounds[1][1] - observation_window_bounds[1][0]\n",
    "\n",
    "lx_window_cg = lx_window // coarse_graining_box_length\n",
    "ly_window_cg = ly_window // coarse_graining_box_length\n",
    "\n",
    "\n",
    "\n",
    "\n",
    "defect_grid = np.zeros((nframes, lx_window_cg, ly_window_cg), dtype=int)\n",
    "defect_count_full = []\n",
    "defect_count = []\n",
    "\n",
    "print(f\"Using window size {lx_window}x{ly_window}.\")\n",
    "print(f\"Defect grid shape with coarse graining box length {coarse_graining_box_length}: {defect_grid.shape}\")\n",
    "\n",
    "nbits_frame = int(np.log2(lx_window_cg))\n",
    "\n",
    "if not lx_window_cg == ly_window_cg:\n",
    "    raise ValueError(\"Cg observation windows must be square.\")\n",
    "\n",
    "allowed_intervals_list = get_allowed_time_intervals(system_size = lx_window_cg  , nbits_max=8)\n",
    "\n",
    "# check that nframes is in allowed intervals\n",
    "if nframes not in [ai['time_interval'] for ai in allowed_intervals_list]:\n",
    "    raise ValueError(f\"nframes {nframes} is not in allowed intervals {allowed_intervals_list}\")\n",
    "else:\n",
    "    # get nbits for nframes\n",
    "    nbits = [ai['nbits'] for ai in allowed_intervals_list if ai['time_interval'] == nframes][0]\n",
    "\n",
    "print(f\"Using nbits = {nbits} (size {1 << nbits}) for nframes = {nframes} and cg window size {lx_window_cg}x{ly_window_cg}\")\n",
    "\n",
    "for i, defect in enumerate(top_defects[-nframes:]):\n",
    "    def_arr = get_defect_arr_from_frame(defect).astype(int)\n",
    "   # print(len(def_arr   ))\n",
    "    def_arr_xmask = (observation_window_bounds[0][0] < def_arr[:,0]) & (def_arr[:,0] < observation_window_bounds[0][1])\n",
    "    def_arr_ymask = (observation_window_bounds[0][0] < def_arr[:,1]) & (def_arr[:,1] < observation_window_bounds[0][1])\n",
    "    def_arr = def_arr[def_arr_xmask & def_arr_ymask]\n",
    "\n",
    "    defect_count_full.append(len(def_arr))\n",
    "\n",
    "    local_x = def_arr[:, 0] - observation_window_bounds[0][0]\n",
    "    local_y = def_arr[:, 1] - observation_window_bounds[1][0]\n",
    "\n",
    "    # Coarse-grain: map positions to coarse grid indices\n",
    "    coarse_x = (local_x // coarse_graining_box_length).astype(int)\n",
    "    coarse_y = (local_y // coarse_graining_box_length).astype(int)\n",
    "\n",
    "    # Set coarse cells to 1 if any defect is inside\n",
    "    defect_grid[i, coarse_x, coarse_y] = 1\n",
    "    defect_count.append(defect_grid[i,:,:].sum())\n",
    "\n",
    "print(\"Average number of defects in window before/after coarse graining: \", np.mean(defect_count_full), np.mean(defect_count))\n",
    "print(\"defects lost in coarse graining per frame: \", np.mean(np.array(defect_count_full) - np.array(defect_count)))"
   ]
  },
  {
   "cell_type": "markdown",
   "id": "9aa21891",
   "metadata": {},
   "source": [
    "#### data structure exploration"
   ]
  },
  {
   "cell_type": "code",
   "execution_count": 62,
   "id": "0464bae3",
   "metadata": {},
   "outputs": [
    {
     "ename": "ValueError",
     "evalue": "operands could not be broadcast together with shapes (16,16,16) (4,1,1) (16,16,16) ",
     "output_type": "error",
     "traceback": [
      "\u001b[1;31m---------------------------------------------------------------------------\u001b[0m",
      "\u001b[1;31mValueError\u001b[0m                                Traceback (most recent call last)",
      "\u001b[1;32m~\\AppData\\Local\\Temp\\ipykernel_15752\\2705243884.py\u001b[0m in \u001b[0;36m<cell line: 6>\u001b[1;34m()\u001b[0m\n\u001b[0;32m      4\u001b[0m \u001b[0mx\u001b[0m\u001b[1;33m=\u001b[0m\u001b[0mnp\u001b[0m\u001b[1;33m.\u001b[0m\u001b[0mlinspace\u001b[0m\u001b[1;33m(\u001b[0m\u001b[1;36m1\u001b[0m\u001b[1;33m,\u001b[0m \u001b[0msize\u001b[0m\u001b[1;33m**\u001b[0m\u001b[1;36m2\u001b[0m \u001b[1;33m,\u001b[0m \u001b[0msize\u001b[0m\u001b[1;33m**\u001b[0m\u001b[1;36m2\u001b[0m\u001b[1;33m)\u001b[0m\u001b[1;33m.\u001b[0m\u001b[0mreshape\u001b[0m\u001b[1;33m(\u001b[0m\u001b[1;33m-\u001b[0m\u001b[1;36m1\u001b[0m\u001b[1;33m,\u001b[0m\u001b[0msize\u001b[0m\u001b[1;33m)\u001b[0m\u001b[1;33m\u001b[0m\u001b[1;33m\u001b[0m\u001b[0m\n\u001b[0;32m      5\u001b[0m \u001b[0mx\u001b[0m\u001b[1;33m=\u001b[0m\u001b[0mnp\u001b[0m\u001b[1;33m.\u001b[0m\u001b[0mrepeat\u001b[0m\u001b[1;33m(\u001b[0m\u001b[0mx\u001b[0m\u001b[1;33m[\u001b[0m\u001b[1;32mNone\u001b[0m\u001b[1;33m,\u001b[0m\u001b[1;33m:\u001b[0m\u001b[1;33m,\u001b[0m\u001b[1;33m:\u001b[0m\u001b[1;33m,\u001b[0m\u001b[1;33m]\u001b[0m\u001b[1;33m,\u001b[0m \u001b[0msize\u001b[0m\u001b[1;33m,\u001b[0m \u001b[0maxis\u001b[0m\u001b[1;33m=\u001b[0m\u001b[1;36m0\u001b[0m\u001b[1;33m)\u001b[0m\u001b[1;33m\u001b[0m\u001b[1;33m\u001b[0m\u001b[0m\n\u001b[1;32m----> 6\u001b[1;33m \u001b[0mx\u001b[0m \u001b[1;33m+=\u001b[0m \u001b[0mnp\u001b[0m\u001b[1;33m.\u001b[0m\u001b[0marray\u001b[0m\u001b[1;33m(\u001b[0m\u001b[1;33m[\u001b[0m\u001b[1;36m0\u001b[0m\u001b[1;33m,\u001b[0m\u001b[1;36m100\u001b[0m\u001b[1;33m,\u001b[0m\u001b[1;36m200\u001b[0m\u001b[1;33m,\u001b[0m\u001b[1;36m300\u001b[0m\u001b[1;33m]\u001b[0m\u001b[1;33m)\u001b[0m\u001b[1;33m[\u001b[0m\u001b[1;33m:\u001b[0m\u001b[1;33m,\u001b[0m\u001b[1;32mNone\u001b[0m\u001b[1;33m,\u001b[0m\u001b[1;32mNone\u001b[0m\u001b[1;33m]\u001b[0m\u001b[1;33m\u001b[0m\u001b[1;33m\u001b[0m\u001b[0m\n\u001b[0m\u001b[0;32m      7\u001b[0m \u001b[0mx\u001b[0m\u001b[1;33m=\u001b[0m\u001b[0mx\u001b[0m\u001b[1;33m.\u001b[0m\u001b[0mastype\u001b[0m\u001b[1;33m(\u001b[0m\u001b[0mnp\u001b[0m\u001b[1;33m.\u001b[0m\u001b[0muint8\u001b[0m\u001b[1;33m)\u001b[0m\u001b[1;33m\u001b[0m\u001b[1;33m\u001b[0m\u001b[0m\n\u001b[0;32m      8\u001b[0m \u001b[0mdata\u001b[0m \u001b[1;33m=\u001b[0m \u001b[0mnp\u001b[0m\u001b[1;33m.\u001b[0m\u001b[0mtranspose\u001b[0m\u001b[1;33m(\u001b[0m\u001b[0mx\u001b[0m\u001b[1;33m[\u001b[0m\u001b[1;36m0\u001b[0m\u001b[1;33m]\u001b[0m\u001b[1;33m)\u001b[0m\u001b[1;33m.\u001b[0m\u001b[0mreshape\u001b[0m\u001b[1;33m(\u001b[0m\u001b[1;33m(\u001b[0m\u001b[1;33m-\u001b[0m\u001b[1;36m1\u001b[0m\u001b[1;33m,\u001b[0m \u001b[1;33m)\u001b[0m \u001b[1;33m+\u001b[0m \u001b[1;33m(\u001b[0m\u001b[1;36m1\u001b[0m\u001b[1;33m<<\u001b[0m\u001b[0mnbits\u001b[0m\u001b[1;33m,\u001b[0m \u001b[1;33m)\u001b[0m \u001b[1;33m*\u001b[0m \u001b[0mdim\u001b[0m\u001b[1;33m)\u001b[0m\u001b[1;33m.\u001b[0m\u001b[0mT\u001b[0m\u001b[1;33m\u001b[0m\u001b[1;33m\u001b[0m\u001b[0m\n",
      "\u001b[1;31mValueError\u001b[0m: operands could not be broadcast together with shapes (16,16,16) (4,1,1) (16,16,16) "
     ]
    }
   ],
   "source": [
    "nbits=4\n",
    "dim=2\n",
    "size=1<<nbits\n",
    "x=np.linspace(1, size**2 , size**2).reshape(-1,size)\n",
    "x=np.repeat(x[None,:,:,], size, axis=0)\n",
    "x += np.array([0,100,200,300])[:,None,None]\n",
    "x=x.astype(np.uint8)\n",
    "data = np.transpose(x[0]).reshape((-1, ) + (1<<nbits, ) * dim).T\n",
    "data.squeeze()\n",
    "x"
   ]
  },
  {
   "cell_type": "code",
   "execution_count": 84,
   "id": "1e5eee7b",
   "metadata": {},
   "outputs": [
    {
     "data": {
      "text/plain": [
       "array([[ 1,  2,  3,  4,  5,  6,  7,  8],\n",
       "       [ 9, 10, 11, 12, 13, 14, 15, 16],\n",
       "       [17, 18, 19, 20, 21, 22, 23, 24],\n",
       "       [25, 26, 27, 28, 29, 30, 31, 32],\n",
       "       [33, 34, 35, 36, 37, 38, 39, 40],\n",
       "       [41, 42, 43, 44, 45, 46, 47, 48],\n",
       "       [49, 50, 51, 52, 53, 54, 55, 56],\n",
       "       [57, 58, 59, 60, 61, 62, 63, 64]], dtype=uint16)"
      ]
     },
     "execution_count": 84,
     "metadata": {},
     "output_type": "execute_result"
    }
   ],
   "source": [
    "nbits=3\n",
    "size=1<<nbits\n",
    "dim=3\n",
    "L, Nt = 16,2\n",
    "L, Nt = 8,8\n",
    "multiplier = 100 if L==8 else 1000\n",
    "nbits_frame = int(np.log2(L))\n",
    "\n",
    "x=np.linspace(1, L**2 , L**2).reshape(-1,L)\n",
    "x=np.repeat(x[None,:,:,], Nt, axis=0)\n",
    "x += np.arange(0, multiplier * Nt, multiplier)[:,None,None]\n",
    "x = x.astype(np.uint16)\n",
    "x[0]\n",
    "#data = np.transpose(x[0]).reshape((-1, ) + (1<<nbits, ) * dim).T\n",
    "#data[:,:,:].squeeze()\n"
   ]
  },
  {
   "cell_type": "code",
   "execution_count": 88,
   "id": "dae6e5b7",
   "metadata": {},
   "outputs": [
    {
     "name": "stdout",
     "output_type": "stream",
     "text": [
      "[729 722 707 607 615 715 716 616 608 708]\n",
      "[737 746 763 663 655 755 756 656 664 764]\n",
      "[ 37  46  63 163 155  55  56 156 164  64]\n",
      "[405 506 707 715 615 607 608 616 716 708]\n",
      "[461 562 763 755 655 663 664 656 756 764]\n",
      "[361 262  63  55 155 163 164 156  56  64]\n",
      "[305 206   7  15 115 107 108 116  16   8]\n",
      "[ 29  22   7 107 115  15  16 116 108   8]\n"
     ]
    }
   ],
   "source": [
    "for order in itter_hscan(x, dim=3,nbits=nbits):\n",
    "    print(order[-10:])"
   ]
  },
  {
   "cell_type": "code",
   "execution_count": null,
   "id": "ea366404",
   "metadata": {},
   "outputs": [
    {
     "name": "stdout",
     "output_type": "stream",
     "text": [
      "[729 722 707 607 615 715 716 616 608 708]\n",
      "[737 746 763 663 655 755 756 656 664 764]\n",
      "[ 37  46  63 163 155  55  56 156 164  64]\n",
      "[405 506 707 715 615 607 608 616 716 708]\n",
      "[461 562 763 755 655 663 664 656 756 764]\n",
      "[361 262  63  55 155 163 164 156  56  64]\n",
      "[305 206   7  15 115 107 108 116  16   8]\n",
      "[ 29  22   7 107 115  15  16 116 108   8]\n"
     ]
    }
   ],
   "source": [
    "data = np.transpose(x).reshape((-1, ) + (1<<nbits, ) * dim).T\n",
    "data[:,:,:].squeeze()\n",
    "\n",
    "for order in itter_hscan(data, dim=3,nbits=nbits):\n",
    "    print(order[-1:])"
   ]
  },
  {
   "cell_type": "code",
   "execution_count": 91,
   "id": "d9d4f63e",
   "metadata": {},
   "outputs": [
    {
     "data": {
      "text/plain": [
       "(8, 8, 8, 1)"
      ]
     },
     "execution_count": 91,
     "metadata": {},
     "output_type": "execute_result"
    }
   ],
   "source": [
    "data.shape"
   ]
  },
  {
   "cell_type": "code",
   "execution_count": 90,
   "id": "79a3f1dc",
   "metadata": {},
   "outputs": [
    {
     "name": "stdout",
     "output_type": "stream",
     "text": [
      "5.19406587356485\n",
      "5.269313670049573\n",
      "5.19406587356485\n",
      "5.269313670049573\n",
      "5.19406587356485\n",
      "5.344143996189747\n",
      "5.344143996189747\n",
      "5.19406587356485\n"
     ]
    }
   ],
   "source": [
    "\n",
    "for order in itter_hscan(x[0], dim=2,nbits=nbits_frame):\n",
    "    print(cid(order))"
   ]
  },
  {
   "cell_type": "code",
   "execution_count": 77,
   "id": "a64da99b",
   "metadata": {},
   "outputs": [
    {
     "name": "stdout",
     "output_type": "stream",
     "text": [
      "[57 49 50 58 59 60 52 51 43 44 36 35 34 42 41 33 25 26 18 17  9  1  2 10\n",
      " 11  3  4 12 20 19 27 28 29 30 22 21 13  5  6 14 15  7  8 16 24 23 31 32\n",
      " 40 48 47 39 38 37 45 46 54 53 61 62 63 55 56 64]\n",
      "[64 56 55 63 62 61 53 54 46 45 37 38 39 47 48 40 32 31 23 24 16  8  7 15\n",
      " 14  6  5 13 21 22 30 29 28 27 19 20 12  4  3 11 10  2  1  9 17 18 26 25\n",
      " 33 41 42 34 35 36 44 43 51 52 60 59 58 50 49 57]\n",
      "[ 8 16 15  7  6  5 13 14 22 21 29 30 31 23 24 32 40 39 47 48 56 64 63 55\n",
      " 54 62 61 53 45 46 38 37 36 35 43 44 52 60 59 51 50 58 57 49 41 42 34 33\n",
      " 25 17 18 26 27 28 20 19 11 12  4  3  2 10  9  1]\n",
      "[57 58 50 49 41 33 34 42 43 35 36 44 52 51 59 60 61 53 54 62 63 64 56 55\n",
      " 47 48 40 39 38 46 45 37 29 21 22 30 31 32 24 23 15 16  8  7  6 14 13  5\n",
      "  4  3 11 12 20 28 27 19 18 26 25 17  9 10  2  1]\n",
      "[64 63 55 56 48 40 39 47 46 38 37 45 53 54 62 61 60 52 51 59 58 57 49 50\n",
      " 42 41 33 34 35 43 44 36 28 20 19 27 26 25 17 18 10  9  1  2  3 11 12  4\n",
      "  5  6 14 13 21 29 30 22 23 31 32 24 16 15  7  8]\n",
      "[ 8  7 15 16 24 32 31 23 22 30 29 21 13 14  6  5  4 12 11  3  2  1  9 10\n",
      " 18 17 25 26 27 19 20 28 36 44 43 35 34 33 41 42 50 49 57 58 59 51 52 60\n",
      " 61 62 54 53 45 37 38 46 47 39 40 48 56 55 63 64]\n",
      "[ 1  2 10  9 17 25 26 18 19 27 28 20 12 11  3  4  5 13 14  6  7  8 16 15\n",
      " 23 24 32 31 30 22 21 29 37 45 46 38 39 40 48 47 55 56 64 63 62 54 53 61\n",
      " 60 59 51 52 44 36 35 43 42 34 33 41 49 50 58 57]\n",
      "[ 1  9 10  2  3  4 12 11 19 20 28 27 26 18 17 25 33 34 42 41 49 57 58 50\n",
      " 51 59 60 52 44 43 35 36 37 38 46 45 53 61 62 54 55 63 64 56 48 47 39 40\n",
      " 32 24 23 31 30 29 21 22 14 13  5  6  7 15 16  8]\n"
     ]
    }
   ],
   "source": [
    "\n",
    "for order in itter_hscan(data, dim=2,nbits=nbits_frame):\n",
    "    print(order)"
   ]
  }
 ],
 "metadata": {
  "kernelspec": {
   "display_name": "sf",
   "language": "python",
   "name": "python3"
  },
  "language_info": {
   "codemirror_mode": {
    "name": "ipython",
    "version": 3
   },
   "file_extension": ".py",
   "mimetype": "text/x-python",
   "name": "python",
   "nbconvert_exporter": "python",
   "pygments_lexer": "ipython3",
   "version": "3.9.13"
  }
 },
 "nbformat": 4,
 "nbformat_minor": 5
}
